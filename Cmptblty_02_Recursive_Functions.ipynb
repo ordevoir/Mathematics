{
 "cells": [
  {
   "cell_type": "markdown",
   "metadata": {},
   "source": [
    "# Примитивно рекурсивные функции\n",
    "\n",
    "Понятие **примитивно рекурсивной функции** является индуктивным. Оно состоит из указания класса **базовых функций** и двух операторов (композиции и примитивной рекурсии), позволяющих строить новые примитивно рекурсивные функции на основе уже имеющихся.\n",
    "\n",
    "Задача вычисления экспоненты может быть сведена к задаче вычисления произведения, а это в свою очередь, к сложению, а сложение может быть сведено к последовательному прибавлению единиц. Последнее может быть реализовано функцией следования (см. далее)."
   ]
  },
  {
   "cell_type": "markdown",
   "metadata": {},
   "source": [
    "## Базовые функции\n",
    "**Нулевая функция** (*zero function*) $z(n_1, \\ldots, n_k)$ всегда возвращает $0$: $\\; z(5) = 0$.\n",
    "\n",
    "**Функция следования** (*successor function*) $s(n)$ одноместная функция, которая возвращает элемент, следующий за аргументом. Для целого аргумента $n$ возвращается число $n+1$: $\\; s(3)=4$.\n",
    "\n",
    "**Проективная функция** или **тождественная функция** (*projection function* или *identity function*) $I_i^k$ – $k$-местная функция, которая возвращает аргумент с индексом $i$, где $0<i<k$:\n",
    "$$\n",
    "I_i^k(n_1, \\ldots, n_k) = n_i\n",
    "$$\n",
    "При $k=1$ можно записать $I(n)=n$."
   ]
  },
  {
   "cell_type": "code",
   "execution_count": 2,
   "metadata": {},
   "outputs": [],
   "source": [
    "def z(*args, **kwargs):\n",
    "    return 0\n",
    "\n",
    "def I(v: int|tuple|list, index=None):\n",
    "    \"\"\"Identity function. \n",
    "    If v is array index must be given\"\"\"\n",
    "    if not index is None:\n",
    "        return v[index]\n",
    "    elif isinstance(v, int):\n",
    "        return v\n",
    "    elif len(v) == 1:\n",
    "        return v[0]\n",
    "    else:\n",
    "        raise TypeError\n",
    "    \n",
    "def get_id_function(i=None, k=None):\n",
    "    \"\"\"Identity function generator\"\"\"\n",
    "    if i is None or k==1:\n",
    "        return I\n",
    "    elif i >= k or k < 0 or i < 0:\n",
    "        raise ValueError (\"i must be less than k and both non-negative\")\n",
    "    else:\n",
    "        def f(*v):\n",
    "            if len(v) != k:\n",
    "                raise ValueError (f\"len(v) must be equal {k}\")\n",
    "            return I(v, i)\n",
    "        return f\n",
    "\n",
    "def s(x: int):\n",
    "    \"\"\"Successor function\"\"\"\n",
    "    if isinstance(x, int):\n",
    "        return x+1\n",
    "    else:\n",
    "        raise TypeError (\"x must be int\")"
   ]
  },
  {
   "cell_type": "markdown",
   "metadata": {},
   "source": [
    "## Операции"
   ]
  },
  {
   "cell_type": "markdown",
   "metadata": {},
   "source": [
    "### Композиция\n",
    "\n",
    "**Композиция** (*composition*) или **подстановка** (*substitution*). Пусть $f$ – функция от $m$ переменных, а $g_i$ – функции от $n$ переменных. Тогда функция $h$, определяемая равенством\n",
    "$$\n",
    "h(x_1, \\ldots, x_n) = f(g_1(x_1, \\ldots, x_n), \\ldots, g_m(x_1, \\ldots, x_n))\n",
    "$$\n",
    "называется композицией функций $f, g_1, \\ldots, g_m$. Коротко можно записать через оператор композиции\n",
    "$$\n",
    "h = f \\circ (g_1, \\ldots, g_m) = \\mathrm{Cn}[f, g]\n",
    "$$"
   ]
  },
  {
   "cell_type": "code",
   "execution_count": 3,
   "metadata": {},
   "outputs": [],
   "source": [
    "def Cn(f, *gs):\n",
    "    \"\"\"Composition\"\"\"\n",
    "    def h(*args):\n",
    "        interim = []\n",
    "        for g in gs:\n",
    "            interim.append(g(*args))\n",
    "        return f(*interim)\n",
    "    return h"
   ]
  },
  {
   "cell_type": "markdown",
   "metadata": {},
   "source": [
    "**Пример**\n",
    "\n",
    "Предположим, мы хотим реализовать функцию $h(x, y) = x + 2$. Можно представить ее в виде композиции функций $I_1^2$ и s:\n",
    "$$\n",
    "h = s \\circ s \\circ I_1^2 = \\mathrm{Cn}[s, \\mathrm{Cn}[s, I_1^2]]\n",
    "$$"
   ]
  },
  {
   "cell_type": "code",
   "execution_count": 4,
   "metadata": {},
   "outputs": [],
   "source": [
    "id_1_2 = get_id_function(0, 2)\n",
    "g = Cn(s, id_1_2)\n",
    "h = Cn(s, g)"
   ]
  },
  {
   "cell_type": "code",
   "execution_count": 5,
   "metadata": {},
   "outputs": [
    {
     "data": {
      "text/plain": [
       "16"
      ]
     },
     "execution_count": 5,
     "metadata": {},
     "output_type": "execute_result"
    }
   ],
   "source": [
    "h(14, 5)"
   ]
  },
  {
   "cell_type": "markdown",
   "metadata": {},
   "source": [
    "**Пример**\n",
    "\n",
    "Предположим, мы хотим реализовать функцию $h(x, y) = x + 2$. Можно представить ее в виде композиции функций $I_1^2$ и s:\n",
    "$$\n",
    "h = s \\circ s \\circ I_1^2 = \\mathrm{Cn}[s, \\mathrm{Cn}[s, I_1^2]]\n",
    "$$"
   ]
  },
  {
   "cell_type": "markdown",
   "metadata": {},
   "source": [
    "### Примитивная рекурсия\n",
    "\n",
    "**Примитивная рекурсия** (*primitive recursion*). Пусть $f$ – функция от $m$ переменных, а $g$ – функции от $m+2$ переменных. Функция $h$ определяется операцией примитивной рекурсии из $f$ и $g$, заданной уравнением рекурсии:\n",
    "$$\n",
    "h(x_1, \\ldots, x_m, 0) = f(x_1, \\ldots, x_m);\\\\\n",
    "h(x_1, \\ldots, x_m, s(y)) = g(x_1, \\ldots, x_m, y, h(x_1, \\ldots, x_m, y))\n",
    "$$\n",
    "$y$ – номер шага итераций. Функцию $f$ можно рассматривать как исходная функция в начале итерационного процесса. Функция $g$ принимает $m$ переменных $x_i$, номер шага итераций $y$ и значение функции $h$ на текущем шаге итерации, и возвращает значение функции $h$ на следующем шаге итерации. При $m=1$:\n",
    "$$\n",
    "h(x, 0) = f(x);\\\\\n",
    "h(x, s(y)) = g(x, y, h(x, y))\n",
    "$$\n",
    "Функцию $h$, определяемую путем примитивной рекурсии из функций $f$ и $g$ обозначим\n",
    "$$\n",
    "h= \\mathrm{Pr}[f, g]\n",
    "$$"
   ]
  },
  {
   "cell_type": "code",
   "execution_count": 6,
   "metadata": {},
   "outputs": [],
   "source": [
    "def Pr(f, g):\n",
    "    def h(x, y):\n",
    "        # print(f\"{y = }\")\n",
    "        if y == 0:\n",
    "            # print('terminate')\n",
    "            return f(x)\n",
    "        return g(x, y-1, h(x, y-1))\n",
    "    return h"
   ]
  },
  {
   "cell_type": "markdown",
   "metadata": {},
   "source": [
    "В данном случае оператор `-` используется в коде для имитации вот этого участка: $h(x, s(y)) = g(x, y, h(x, y))$, так как в Python нет возможности задать непосредственно в этом виде."
   ]
  },
  {
   "cell_type": "markdown",
   "metadata": {},
   "source": [
    "#### Примеры (сложение и умножение)\n",
    "Функция **сложения** $\\mathrm{add}$ двух натуральных чисел. Определим $f(x)$ как $I(x)$, а $g(x)$ как композицию функций $s$ и $I_3^3$, т.е. $\\mathrm{Cn}[s, I_3^3]$, чтобы отобрать третий аргумент, переданный в $g$ и прибавить к нему 1:\n",
    "$$\n",
    "\\mathrm{add}(x, 0) = I(x) \\\\\n",
    "\\mathrm{add}(x, s(y)) = s \\circ I_3^3(x, y, \\mathrm{add}(x, y))\n",
    "$$\n",
    "Таким образом можно записать:\n",
    "$$\n",
    "\\mathrm{add} = \\mathrm{Pr}[I, s \\circ I_3^3] = \\mathrm{Pr}[I, \\mathrm{Cn}[s, I_3^3]]\n",
    "$$"
   ]
  },
  {
   "cell_type": "code",
   "execution_count": 7,
   "metadata": {},
   "outputs": [],
   "source": [
    "f = get_id_function()\n",
    "g = Cn(s, get_id_function(2, 3))\n",
    "add = Pr(f, g)"
   ]
  },
  {
   "cell_type": "code",
   "execution_count": 8,
   "metadata": {},
   "outputs": [
    {
     "data": {
      "text/plain": [
       "18"
      ]
     },
     "execution_count": 8,
     "metadata": {},
     "output_type": "execute_result"
    }
   ],
   "source": [
    "add(14, 4)"
   ]
  },
  {
   "cell_type": "markdown",
   "metadata": {},
   "source": [
    "Функция **умножения** $\\mathrm{mul}$ двух натуральных чисел. Определим $f(x)$ как $z(x)$, а $g$ определим как композицию функции $\\mathrm{add}$ и функций $I_1^3, I_3^3$, чтобы производилось сложение первого и третьего аргументов функции $g$:\n",
    "$$\n",
    "\\mathrm{mul}(x, 0) = z(x) \\\\\n",
    "\\mathrm{mul}(x, s(y)) = \\mathrm{add} \\circ (I_1^3, I_3^3)\n",
    "$$\n",
    "Таким образом можно записать:\n",
    "$$\n",
    "\\mathrm{mul} = \\mathrm{Pr}[z, \\mathrm{add} \\circ (I_1^3, I_3^3)] = \\mathrm{Pr}[z, \\mathrm{Cn}[\\mathrm{add}, I_1^3, I_3^3]]\n",
    "$$"
   ]
  },
  {
   "cell_type": "code",
   "execution_count": 9,
   "metadata": {},
   "outputs": [],
   "source": [
    "f = z\n",
    "g = Cn(add, get_id_function(0, 3), get_id_function(2, 3))\n",
    "mul = Pr(f, g)"
   ]
  },
  {
   "cell_type": "code",
   "execution_count": 10,
   "metadata": {},
   "outputs": [
    {
     "data": {
      "text/plain": [
       "1"
      ]
     },
     "execution_count": 10,
     "metadata": {},
     "output_type": "execute_result"
    }
   ],
   "source": [
    "mul(1, 1)"
   ]
  },
  {
   "cell_type": "markdown",
   "metadata": {},
   "source": [
    "Exp"
   ]
  },
  {
   "cell_type": "code",
   "execution_count": 11,
   "metadata": {},
   "outputs": [
    {
     "data": {
      "text/plain": [
       "1024"
      ]
     },
     "execution_count": 11,
     "metadata": {},
     "output_type": "execute_result"
    }
   ],
   "source": [
    "def f(x):\n",
    "    return s(z(x))\n",
    "g = Cn(mul, get_id_function(0, 3), get_id_function(2, 3))\n",
    "exp = Pr(f, g)\n",
    "\n",
    "exp(2, 10)"
   ]
  },
  {
   "cell_type": "markdown",
   "metadata": {},
   "source": [
    "#### Рекурсивные функции от одной переменной"
   ]
  },
  {
   "cell_type": "markdown",
   "metadata": {},
   "source": [
    "Если рассматривается единственная переменна $y$, то схема принимает вид:\n",
    "$$\n",
    "h(0) = f() \\\\\n",
    "h(s(y)) = g(y, h(y))\n",
    "$$\n",
    "В этом случае $x_i$ не появляется вовсе, а функция $f$ нуля переменных есть некоторая константа $s(0)$ или $s(s(0))$ и тд."
   ]
  },
  {
   "cell_type": "code",
   "execution_count": 12,
   "metadata": {},
   "outputs": [],
   "source": [
    "def Pr(f, g):\n",
    "    def h(y):\n",
    "        if y == 0:\n",
    "            return z(y)\n",
    "        return g(y-1, h(y-1))\n",
    "    return h"
   ]
  },
  {
   "cell_type": "markdown",
   "metadata": {},
   "source": [
    " Другой способ - использовать предыдущую функцию `Pr` с фиктивным (*dummy*) $x$."
   ]
  },
  {
   "cell_type": "markdown",
   "metadata": {},
   "source": [
    "Функции, которые могут быть получены из базовых функций при помощи композиции и рекурсии называются **примитивно рекурсивными функциями** (*primitive recursive functions*). Все функции, получаемые путем композиции и рекурсии из всюду определенных функций также являются всюду определенными. Так как базовые функции являются всюду определенными на множестве неотрицательных целых чисел, то и все примитивно рекурсивные функции являются всюду определенными в этой области."
   ]
  },
  {
   "cell_type": "markdown",
   "metadata": {},
   "source": [
    "Интуитивно частично определенная функция (*partial function*) $f$ является вычислимой, если может быть задан список определенных и явных инструкций, следуя которым, в случае применения к любому $x$, принадлежащему области определения функции, можно получить значение $f(x)$, однако, в случае применени к $x$, не принадлежащему области определения функции, следование инструкциям будет продолжаться вечно, не приводя к какому либо результату. Это понятие применяется также и к функциям от многих переменных.\n",
    "\n",
    "Для определения понятия частично рекурсивных функций необходимо ввести еще одну операцию."
   ]
  },
  {
   "cell_type": "markdown",
   "metadata": {},
   "source": [
    "### Минимизация\n",
    "\n",
    "Пусть дана функция $f$ от $n+1$ аргументов $f(x_1, \\ldots, x_n, y)$. Операция **минимизации** (*minimization*) дает всюду или частично определенную функцию $h$ от $n$ аргументов $h(x_1, \\ldots, x_n)$, которая возвращает наименьший $y$, при котором функция \n",
    "$$\n",
    "\\mathrm{Mn}[f](x_1, \\ldots, x_n) = \n",
    "\\begin{cases}\n",
    "y & \\text{если } f(x_1, \\ldots, x_n, y)=0, \\\\ \n",
    "& \\text{ и для всех } t<y \\\\\n",
    "& f(x_1, \\ldots, x_n, t) \\text{ определена и не равна нулю} \\\\\n",
    "\\text{undefined} & \\text{если если не существует такого } y\n",
    "\\end{cases}\n",
    "$$\n",
    "Для $h(\\mathbf x)=h(x_1, \\ldots, x_n)=\\mathrm{Mn}[f]$ мы вычисляем последовательно $f(\\mathbf x, 0), f(\\mathbf x, 1), f(\\mathbf x, 2), \\ldots$, останавливаясь при достижении такого $y$, при котором $f(\\mathbf x, y) = 0$. Для $\\mathbf x$, функция $h$ может оказаться неопределенной по двум причинам. Во-первых, может оказаться, что все значения последовательности $f(\\mathbf x, 0), f(\\mathbf x, 1), f(\\mathbf x, 2), \\ldots$ определены, нет нулевых значений. Во-вторых, может оказаться, что значения последовательности $f(\\mathbf x, 0), f(\\mathbf x, 1), \\ldots, f(\\mathbf x, i-1)$ определены, но среди них нет нулевых, а $f(\\mathbf x, i)$ уже не определена. В этих случаях попытка вычислить $h(\\mathbf x)$ будет вовлекать в процесс, который будет продолжнаться вечно, не давая результата. \n",
    "\n",
    "В случае, когда $f$ является всюду определенной, мы не беспокоимся о второй причине неопределенности $h$ и определение выще может быть записано так:\n",
    "$$\n",
    "\\mathrm{Mn}[f](x_1, \\ldots, x_n) = \n",
    "\\begin{cases}\n",
    "\\text{наименьший }y, \\text{при котором} \\\\ \\quad f(x_1, \\ldots, x_n, y)=0\n",
    "& \\text{если суеществует такой } y\\\\ \n",
    "\\text{undefined} & \\text{в противном случае}\n",
    "\\end{cases}\n",
    "$$"
   ]
  },
  {
   "cell_type": "markdown",
   "metadata": {},
   "source": [
    "Всюду определенная функция $f$ называется **регулярной** (*regular*), если для каждого $x_1, \\ldots, x_n$ существует такой $y$, при котором $f(x_1, \\ldots, x_n, y)=0$. В случае, когда $f$ является регулярной функцией, $\\mathrm{Mn}[f]$ будет всюду определенной функцией. Более того, если $f$ является регулярной функцией, то $\\mathrm{Mn}[f]$ будет всюду определенной (при любых $\\mathbf x$) функцией в том и только в том случае, когда $f$ является регулярной. В качестве примера можно рассмотреть функции сложения и умножения: умножение является регулярной функцией, а сложение - нет, так как $f(x,y)=x+y=0$ имеет место только при $x=y=0$."
   ]
  },
  {
   "cell_type": "markdown",
   "metadata": {},
   "source": [
    "Функции, которые могут быть получены из базисных функций $z, s, I_i^k$ при помощи операций $\\mathrm{Cn, Pr, Mn}$ называются рукурсивными функциями (*recursive functions*). В литературе обычно под **рекурсивной функцией** подразумевают всюду определенную рекурсивную функцию, а под **частичной рекурсивной функцией** (*partial recursive function*) подразумевают в общем как частично определенную, так и всюду определенную рекурисвной функции (всюду определенная функция является частным случаем частично определенной функции)."
   ]
  },
  {
   "cell_type": "markdown",
   "metadata": {},
   "source": [
    "## Тезис Чёрча\n",
    "Согласно тезису Чёрча все вычислимые всюду определенные функции являются рекурсивными функциями (гипотиза о том, что все вычислимые частичные функции являются рекурсивными, известна как расширенная версия тезиса Чёрча). На сегодняшний день, тезис Чёрча представляет собой просто гипотезу. Правдоподобность тезиса подтверждается значительным числом вычислимых функций, для которых показано, что они являются рекурсивными. Однако это конечно не доказывает правильность тезиса."
   ]
  }
 ],
 "metadata": {
  "kernelspec": {
   "display_name": "tf",
   "language": "python",
   "name": "python3"
  },
  "language_info": {
   "codemirror_mode": {
    "name": "ipython",
    "version": 3
   },
   "file_extension": ".py",
   "mimetype": "text/x-python",
   "name": "python",
   "nbconvert_exporter": "python",
   "pygments_lexer": "ipython3",
   "version": "3.12.3"
  },
  "orig_nbformat": 4
 },
 "nbformat": 4,
 "nbformat_minor": 2
}
