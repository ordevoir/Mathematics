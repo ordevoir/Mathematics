{
 "cells": [
  {
   "cell_type": "code",
   "execution_count": 36,
   "metadata": {},
   "outputs": [],
   "source": [
    "import numpy as np\n",
    "import matplotlib.pyplot as plt"
   ]
  },
  {
   "attachments": {},
   "cell_type": "markdown",
   "metadata": {},
   "source": [
    "#### Матричное произведение $ C=AB $"
   ]
  },
  {
   "cell_type": "code",
   "execution_count": 37,
   "metadata": {},
   "outputs": [],
   "source": [
    "def matmul(a, b):\n",
    "    m = a.shape[0]\n",
    "    n = a.shape[1]\n",
    "    k = b.shape[1]\n",
    "    c = np.empty((m, k))\n",
    "    for i in range(m):\n",
    "        for j in range(k):\n",
    "            value = 0\n",
    "            for l in range(n):\n",
    "                value += a[i, l] * b[l, j]\n",
    "            c[i, j] = value\n",
    "    return c"
   ]
  },
  {
   "cell_type": "code",
   "execution_count": 38,
   "metadata": {},
   "outputs": [
    {
     "name": "stdout",
     "output_type": "stream",
     "text": [
      "A:\n",
      " [[ 9 11  4]\n",
      " [ 1  6  7]\n",
      " [ 4  7  2]\n",
      " [ 3 11  3]]\n",
      "B:\n",
      " [[ 1  9  6  8  9]\n",
      " [ 6 13  5 14  7]\n",
      " [ 9  1 14  1  2]]\n",
      "matmul(A, B):\n",
      " [[111. 228. 165. 230. 166.]\n",
      " [100.  94. 134.  99.  65.]\n",
      " [ 64. 129.  87. 132.  89.]\n",
      " [ 96. 173. 115. 181. 110.]]\n",
      "np.matmul(A, B):\n",
      " [[111 228 165 230 166]\n",
      " [100  94 134  99  65]\n",
      " [ 64 129  87 132  89]\n",
      " [ 96 173 115 181 110]]\n"
     ]
    }
   ],
   "source": [
    "m, n, k = 4, 3, 5\n",
    "# генерация матриц с произвольными значениями\n",
    "A = np.random.randint(m*n, size=(m, n))\n",
    "B = np.random.randint(k*n, size=(n, k))\n",
    "print(f\"A:\\n {A}\")\n",
    "print(f\"B:\\n {B}\")\n",
    "print(f\"matmul(A, B):\\n {matmul(A, B)}\")\n",
    "print(f\"np.matmul(A, B):\\n {np.matmul(A, B)}\")"
   ]
  },
  {
   "cell_type": "code",
   "execution_count": 39,
   "metadata": {},
   "outputs": [
    {
     "data": {
      "text/plain": [
       "array([[111, 228, 165, 230, 166],\n",
       "       [100,  94, 134,  99,  65],\n",
       "       [ 64, 129,  87, 132,  89],\n",
       "       [ 96, 173, 115, 181, 110]])"
      ]
     },
     "execution_count": 39,
     "metadata": {},
     "output_type": "execute_result"
    }
   ],
   "source": [
    "np.matmul(A, B)"
   ]
  },
  {
   "attachments": {},
   "cell_type": "markdown",
   "metadata": {},
   "source": [
    "#### Скалярное произведение векторов $ c = ab $"
   ]
  },
  {
   "cell_type": "code",
   "execution_count": 40,
   "metadata": {},
   "outputs": [
    {
     "data": {
      "text/plain": [
       "32"
      ]
     },
     "execution_count": 40,
     "metadata": {},
     "output_type": "execute_result"
    }
   ],
   "source": [
    "r1 = np.array([1, 2, 3])\n",
    "r2 = np.array([4, 5, 6])\n",
    "\n",
    "def dot(a, b):\n",
    "    value = 0\n",
    "    for i in range(len(a)):\n",
    "        value += a[i]*b[i]\n",
    "    return value\n",
    "\n",
    "dot(r1, r2)"
   ]
  },
  {
   "cell_type": "code",
   "execution_count": 41,
   "metadata": {},
   "outputs": [
    {
     "data": {
      "text/plain": [
       "32"
      ]
     },
     "execution_count": 41,
     "metadata": {},
     "output_type": "execute_result"
    }
   ],
   "source": [
    "np.dot(r1, r2)"
   ]
  },
  {
   "attachments": {},
   "cell_type": "markdown",
   "metadata": {},
   "source": [
    "#### Обратная матрица\n",
    "Для квадратной матрицы $A$ существует обратная (inverse) матрица $A^{-1}$ если она является невырожденной (nonsingular) ($ AA^{-1} = I $). Так же такую матрицу называют обратимой (invertible)."
   ]
  },
  {
   "cell_type": "code",
   "execution_count": 42,
   "metadata": {},
   "outputs": [
    {
     "name": "stdout",
     "output_type": "stream",
     "text": [
      "det(A) = -7.999999999999988\n",
      "A:\n",
      " [[5 6 4]\n",
      " [4 0 4]\n",
      " [6 8 5]]\n",
      "iA:\n",
      " [[ 4.    -0.25  -3.   ]\n",
      " [-0.5   -0.125  0.5  ]\n",
      " [-4.     0.5    3.   ]]\n"
     ]
    }
   ],
   "source": [
    "n = 3\n",
    "A = np.random.randint(n*n, size=(n, n))     # матрица n x n коэффициентов \n",
    "print(f'det(A) = {np.linalg.det(A)}')       # детерминант матрицы\n",
    "iA = np.linalg.inv(A)\n",
    "print('A:\\n', A)\n",
    "print('iA:\\n', iA)"
   ]
  },
  {
   "attachments": {},
   "cell_type": "markdown",
   "metadata": {},
   "source": [
    "#### Транспонирование матрицы (transpose)"
   ]
  },
  {
   "cell_type": "code",
   "execution_count": 43,
   "metadata": {},
   "outputs": [
    {
     "name": "stdout",
     "output_type": "stream",
     "text": [
      "original:\n",
      " [[ 0  8 10]\n",
      " [ 5  0  9]\n",
      " [ 0  2  7]\n",
      " [ 8  9  8]]\n",
      "transposed:\n",
      " [[ 0  5  0  8]\n",
      " [ 8  0  2  9]\n",
      " [10  9  7  8]]\n"
     ]
    }
   ],
   "source": [
    "m, n = 4, 3\n",
    "A = np.random.randint(m*n, size=(m, n))\n",
    "\n",
    "def transpose(M):\n",
    "    tM = np.empty((M.shape[1], M.shape[0]), dtype=M.dtype)\n",
    "    for i in range(M.shape[1]):\n",
    "        for j in range(M.shape[0]):\n",
    "            tM[i, j] = M[j, i]\n",
    "    return tM\n",
    "\n",
    "tA = transpose(A)\n",
    "print('original:\\n', A)\n",
    "print('transposed:\\n', tA)\n"
   ]
  },
  {
   "cell_type": "code",
   "execution_count": 44,
   "metadata": {},
   "outputs": [
    {
     "name": "stdout",
     "output_type": "stream",
     "text": [
      "[[ 0  5  0  8]\n",
      " [ 8  0  2  9]\n",
      " [10  9  7  8]]\n"
     ]
    }
   ],
   "source": [
    "tA = np.transpose(A)    # два           # фцнкция\n",
    "tA = A.transpose()      # способа       # метод\n",
    "print(tA)"
   ]
  },
  {
   "attachments": {},
   "cell_type": "markdown",
   "metadata": {},
   "source": [
    "#### Диагональная матрица (diagonal matrix)"
   ]
  },
  {
   "cell_type": "code",
   "execution_count": 45,
   "metadata": {},
   "outputs": [
    {
     "data": {
      "text/plain": [
       "array([[0, 0, 0, 0, 0, 0, 0],\n",
       "       [0, 1, 0, 0, 0, 0, 0],\n",
       "       [0, 0, 2, 0, 0, 0, 0],\n",
       "       [0, 0, 0, 3, 0, 0, 0],\n",
       "       [0, 0, 0, 0, 4, 0, 0],\n",
       "       [0, 0, 0, 0, 0, 5, 0],\n",
       "       [0, 0, 0, 0, 0, 0, 6]])"
      ]
     },
     "execution_count": 45,
     "metadata": {},
     "output_type": "execute_result"
    }
   ],
   "source": [
    "np.diag([i for i in range(7)])"
   ]
  },
  {
   "attachments": {},
   "cell_type": "markdown",
   "metadata": {},
   "source": [
    "#### Матрица перестановки (permutation matrix)\n",
    "Матрица перестановки имеет в каждой строке и столбце ровно по одной единице, а на всех прочих местах располагаются нули. Такая матрица называется матрицей перестановки, потому что умножение матрицы перестановки на вектор приводит к перестановке элементов вектора. Умножение матрицы перестановки P на матрицy A (той же размерности), образует матрицу A с переставленными строками, а произведение AP образует матрицу A с переставленными колонками."
   ]
  },
  {
   "cell_type": "code",
   "execution_count": 46,
   "metadata": {},
   "outputs": [
    {
     "name": "stdout",
     "output_type": "stream",
     "text": [
      "-1.0\n"
     ]
    },
    {
     "data": {
      "text/plain": [
       "array([3, 1, 4, 2])"
      ]
     },
     "execution_count": 46,
     "metadata": {},
     "output_type": "execute_result"
    }
   ],
   "source": [
    "P = np.array([  [0, 0, 1, 0],\n",
    "                [1, 0, 0, 0],\n",
    "                [0, 0, 0, 1],\n",
    "                [0, 1, 0, 0]   ])\n",
    "\n",
    "print(np.linalg.det(P))\n",
    "v = np.array([1,2,3,4])\n",
    "np.matmul(P, v)"
   ]
  },
  {
   "cell_type": "code",
   "execution_count": 47,
   "metadata": {},
   "outputs": [
    {
     "name": "stdout",
     "output_type": "stream",
     "text": [
      "A:\n",
      " [[ 0  1  2  3]\n",
      " [ 4  5  6  7]\n",
      " [ 8  9 10 11]\n",
      " [12 13 14 15]]\n",
      "PA: переставлены строки\n",
      " [[ 8  9 10 11]\n",
      " [ 0  1  2  3]\n",
      " [12 13 14 15]\n",
      " [ 4  5  6  7]]\n",
      "AP: переставлены колонки\n",
      " [[ 1  3  0  2]\n",
      " [ 5  7  4  6]\n",
      " [ 9 11  8 10]\n",
      " [13 15 12 14]]\n"
     ]
    }
   ],
   "source": [
    "n = 4\n",
    "A = np.arange(16).reshape(4, 4)\n",
    "print('A:\\n', A)\n",
    "\n",
    "PA = np.matmul(P, A)\n",
    "AP = np.matmul(A, P)\n",
    "\n",
    "print('PA: переставлены строки\\n', PA)\n",
    "print('AP: переставлены колонки\\n', AP)\n"
   ]
  },
  {
   "cell_type": "code",
   "execution_count": 48,
   "metadata": {},
   "outputs": [
    {
     "data": {
      "text/plain": [
       "array([[1, 3, 4],\n",
       "       [1, 5, 2],\n",
       "       [5, 5, 3]])"
      ]
     },
     "execution_count": 48,
     "metadata": {},
     "output_type": "execute_result"
    }
   ],
   "source": [
    "A = np.random.randint(1, 6, size=(3, 3))\n",
    "A"
   ]
  },
  {
   "attachments": {},
   "cell_type": "markdown",
   "metadata": {},
   "source": [
    "#### Моделирование задачи через систему уравнений"
   ]
  },
  {
   "attachments": {},
   "cell_type": "markdown",
   "metadata": {},
   "source": [
    "Компания производит продукты $ N_1, \\ldots ,N_n $, для которых требуются ресурсы $ R_1, \\ldots ,R_m $. Для производства одного изделия продукта $ N_j $ требуется $ a_{ij} $ единиц ресурса $ R_i $, где $ i=1, \\ldots ,m; j=1, \\ldots ,n $. Цель заключается в нахождении оптимального производственного плана: имеется в распоряжении $ b_i $ единиц ресурса $ R_i $, сколько единиц $ x_j $ продукта $ N_j $ следует произвести, чтобы исчерпались все ресурсы?\n",
    "Если мы производим $ x_1, \\ldots  , x_n $ единиц соответствующих продуктов, то суммарное количество требуемых ресурсов будет равно $$ a_{i1}x_1+ \\cdots +a_{in}x_n $$ Как мимимум, эта сумма должна быть меньше, чем, чем доступное количество $ b_i $ ресурса $ R_i $, а в соответствии с нашим условием, $$ \\sum_{j=1}^n a_{ij}x_j= d_i $$ Так, образуется $m$ строк, каждая из которых соответствует $i$-му ресурсу:\n",
    "$$ a_{11} x_1 + \\cdots + a_{1n} x_n = b_1 $$\n",
    "$$ \\vdots $$ \n",
    "$$ a_{m1} x_1 + \\cdots + a_{mn} x_n = b_m $$\n",
    "Решение $ (x_1, \\ldots, x_n) \\in \\mathbb{R}^n $ этой системы уравнений будет представлять оптимальный производственный план, показыающий, сколько единиц каждого из продуктов следует производить, для того, чтобы задействовать имеющиеся ресурсы без отходов."
   ]
  },
  {
   "attachments": {},
   "cell_type": "markdown",
   "metadata": {},
   "source": [
    "Рассмотрим простейший случай, когда производится два продукта $ N_1, N_2 $, и используется два ресурса $ R_1, R_2 $. В этом случае система линейных уравнений\n",
    "$$ a_{11} x_1 + a_{12} x_2 = b_1 $$\n",
    "$$ a_{21} x_1 + a_{22} x_2 = b_2 $$\n",
    "Определим некоторые значения для матрицы коэффициентов $ a_{ij} $ и вектора свободных членов $ b_i $ и построим соответствующие прямые"
   ]
  },
  {
   "cell_type": "code",
   "execution_count": 49,
   "metadata": {},
   "outputs": [
    {
     "data": {
      "text/plain": [
       "[<matplotlib.lines.Line2D at 0x1f2878cb490>]"
      ]
     },
     "execution_count": 49,
     "metadata": {},
     "output_type": "execute_result"
    },
    {
     "data": {
      "image/png": "[encoded data removed]",
      "text/plain": [
       "<Figure size 432x288 with 1 Axes>"
      ]
     },
     "metadata": {
      "needs_background": "light"
     },
     "output_type": "display_data"
    }
   ],
   "source": [
    "A = np.array([\n",
    "    [1.5, 2],\n",
    "    [4, 0.5]\n",
    "])\n",
    "B = np.array([6, 4])\n",
    "\n",
    "# построем прямые по парам точек\n",
    "# пусть значениями x1 будут 0 и 1:\n",
    "x1_1 = 0\n",
    "x1_2 = 1\n",
    "x1_pair = (x1_1, x1_2)\n",
    "# значение x2 при x1 = -10:\n",
    "x2_1 = (B[0] - (A[0, 0] * x1_1)) / A[0, 1]\n",
    "# значение x2 при x1 = 5:\n",
    "x2_2 = (B[0] - (A[0, 0] * x1_2)) / A[0, 1]\n",
    "\n",
    "x2_pair = (x2_1, x2_2)\n",
    "\n",
    "plt.xlim(x1_1, x1_2)\n",
    "plt.plot(x1_pair, x2_pair)\n",
    "\n",
    "# так же строим график второго уравнения\n",
    "x2_1 = (B[1] - (A[1, 0] * x1_1)) / A[1, 1]\n",
    "x2_2 = (B[1] - (A[1, 0] * x1_2)) / A[1, 1]\n",
    "x2_pair = (x2_1, x2_2)\n",
    "plt.plot(x1_pair, x2_pair)"
   ]
  },
  {
   "attachments": {},
   "cell_type": "markdown",
   "metadata": {},
   "source": [
    "Если значения $ x_1, x_2 $ таковы, что $ a_{11}x_1 + a_{12}x_2 < b_1$, то образуется излишек ресурса $R_1$, и в этом случае точка $ (x_1, x_2) $ будет располагаться ниже оранжевой прямой. Также если $ a_{21}x_1 + a_{22}x_2 < b_2$, то образуется излишек ресурса $R_2$, и в этом случае точка $ (x_1, x_2) $ будет располагаться ниже синей прямой.\n",
    "Полное исчерпание ресурсов происходит только при том условии, если точка $ (x_1, x_2) $ лежит как на оранжевой, так и на синей прямой, что соответствует решению данной системы уравнений."
   ]
  },
  {
   "attachments": {},
   "cell_type": "markdown",
   "metadata": {},
   "source": [
    "Решим систему уравнений методом Крамера"
   ]
  },
  {
   "cell_type": "code",
   "execution_count": 50,
   "metadata": {},
   "outputs": [
    {
     "name": "stdout",
     "output_type": "stream",
     "text": [
      "[[1.5 2. ]\n",
      " [4.  0.5]]\n",
      "[[6.  2. ]\n",
      " [4.  0.5]]\n",
      "[[1.5 6. ]\n",
      " [4.  4. ]]\n",
      "D = -7.250 D1 = -5.000 D2 = -18.000\n",
      "x1 = 0.690 x2 = 2.483\n"
     ]
    }
   ],
   "source": [
    "import copy\n",
    "\n",
    "A1 = copy.deepcopy(A)\n",
    "A2 = copy.deepcopy(A)\n",
    "\n",
    "A1[:, 0] = B    # замена первой колонки матрицы A на вектор b\n",
    "A2[:, 1] = B    # замена второй колонки матрицы A на вектор b\n",
    "print(f\"{A}\\n{A1}\\n{A2}\")\n",
    "\n",
    "D =  np.linalg.det(A)       # вычисление определителей\n",
    "D1 = np.linalg.det(A1)      # при помощи функции det\n",
    "D2 = np.linalg.det(A2)      # \n",
    "print(f\"{D = :.3f} {D1 = :.3f} {D2 = :.3f}\")\n",
    "\n",
    "x1 = D1 / D                 # решение системы\n",
    "x2 = D2 / D                 # уравнений\n",
    "print(f\"{x1 = :.3f} {x2 = :.3f}\")"
   ]
  },
  {
   "attachments": {},
   "cell_type": "markdown",
   "metadata": {},
   "source": [
    "СЛАУ можно решить методом Гаусса (Gaussian elimination). Путем элементарных преобразований матрица коэффициентов $A$ приводится к верхне-треугольной (upper triangular) матрице. Эти преобразования параллельно совершаются и над вектором свободных членов $b$. После этого значения переменных $x_i$ вычисляются с конца (с последней строки)."
   ]
  },
  {
   "attachments": {},
   "cell_type": "markdown",
   "metadata": {},
   "source": [
    "#### Функция `solve` из numpy и scipy для решения СЛАУ"
   ]
  },
  {
   "cell_type": "code",
   "execution_count": 51,
   "metadata": {},
   "outputs": [
    {
     "name": "stdout",
     "output_type": "stream",
     "text": [
      "[-8.5        -6.4375     -7.41666667]\n",
      "[-8.5        -6.4375     -7.41666667]\n"
     ]
    }
   ],
   "source": [
    "from scipy import linalg\n",
    "import numpy as np\n",
    "\n",
    "A = np.array([                              # матрица коэффициентов\n",
    "    [-6, 4, 3],\n",
    "    [6, -12, 3],\n",
    "    [3, 8, -12]])\n",
    "\n",
    "b = np.array([3, 4, 12])                    # вектор свободных членов\n",
    "\n",
    "print(np.linalg.solve(A, b))\n",
    "print(linalg.solve(A, b))"
   ]
  },
  {
   "attachments": {},
   "cell_type": "markdown",
   "metadata": {},
   "source": [
    "#### PLU-decomposition"
   ]
  },
  {
   "attachments": {},
   "cell_type": "markdown",
   "metadata": {},
   "source": [
    "PLU-разложение представляет матрицу $A$ в виде произведения $ A=PLU $, где<br>\n",
    "$P$ - матрица перестановок (premutation matrix)<br>\n",
    "$L$ - нижне-треугольная матрица (lower-triangular matrix)<br>\n",
    "$U$ - верхне-треугольная матрица (upper-triangular matrix)<br>\n",
    "Всякая невырожденная матрица допускает такое разложение.<br>\n",
    "Функция `lu` производит такое разложение, и возвращает соответствующие матрицы."
   ]
  },
  {
   "cell_type": "code",
   "execution_count": 52,
   "metadata": {},
   "outputs": [
    {
     "name": "stdout",
     "output_type": "stream",
     "text": [
      "P:\n",
      " [[1. 0. 0.]\n",
      " [0. 0. 1.]\n",
      " [0. 1. 0.]]\n",
      "L:\n",
      " [[ 1.   0.   0. ]\n",
      " [-0.5  1.   0. ]\n",
      " [-1.  -0.8  1. ]]\n",
      "U:\n",
      " [[ -6.    4.    3.   12. ]\n",
      " [  0.   10.  -10.5  12. ]\n",
      " [  0.    0.   -2.4  30.6]]\n",
      "A = PLU:\n",
      " [[ -6.   4.   3.  12.]\n",
      " [  6. -12.   3.   9.]\n",
      " [  3.   8. -12.   6.]]\n"
     ]
    }
   ],
   "source": [
    "from scipy.linalg import lu\n",
    "\n",
    "A = np.array([\n",
    "    [-6, 4, 3, 12],\n",
    "    [6, -12, 3, 9],\n",
    "    [3, 8, -12, 6],\n",
    "])\n",
    "\n",
    "P, L, U = lu(A)     # decomposition\n",
    "\n",
    "print(f\"P:\\n {P}\")\n",
    "print(f\"L:\\n {L}\")\n",
    "print(f\"U:\\n {U}\")\n",
    "\n",
    "# матричное произведение PLU дает исходную матрицу A:\n",
    "A_composed = np.matmul(P, np.matmul(L, U))\n",
    "print(f\"A = PLU:\\n {A_composed}\")"
   ]
  },
  {
   "attachments": {},
   "cell_type": "markdown",
   "metadata": {},
   "source": [
    "#### Решение СЛАУ при помощи PLU-разложения"
   ]
  },
  {
   "attachments": {},
   "cell_type": "markdown",
   "metadata": {},
   "source": [
    "Пусть СЛАУ задана квадратной матрицей $A$ и вектором $b$. Тогда систему уравнений можно записать в виде $Ax=b$. Если матрица $A$ невырожденная, то вычислив обратную матрицу $A^{-1}$, можно получить решение умножив $A^{-1}$ на $b$, так как $x=A^{-1}b$. На практике этого подхода избегают из-за его численной неустойчивости (нарастание ошибок округления).<br>\n",
    "Подход с PLU-разложением численно устойчаив, и на практике оказывается более быстрым. Преимущество основано на том, что СЛАУ решается гораздо легче, если ее матрица треугольна, что и выполняется в случае матриц L и P. В соответствии с PLU-разложением, $A = PLU$. Тогда система уравнений запишется в виде $$PLUx = b$$ Для нахождения решения $x$ исходной системы, мы решим для начала систему $Py = b$, где $y=LUx$, затем систему $Lz=y$, где $z=Ux$, и наконец систему $Ux=z$."
   ]
  },
  {
   "cell_type": "code",
   "execution_count": 53,
   "metadata": {},
   "outputs": [
    {
     "name": "stdout",
     "output_type": "stream",
     "text": [
      "[-8.5        -6.4375     -7.41666667]\n",
      "[-8.5        -6.4375     -7.41666667]\n"
     ]
    }
   ],
   "source": [
    "from scipy.linalg import lu, solve\n",
    "\n",
    "A = np.array([                              # матрица коэффициентов\n",
    "    [-6, 4, 3],\n",
    "    [6, -12, 3],\n",
    "    [3, 8, -12]])\n",
    "\n",
    "b = np.array([3, 4, 12])                    # вектор свободных членов\n",
    "\n",
    "P, L, U = lu(A)\n",
    "y = solve(P, b)\n",
    "z = solve(L, y)\n",
    "x = solve(U, z)\n",
    "print(x)\n",
    "\n",
    "print(solve(A, b))"
   ]
  },
  {
   "attachments": {},
   "cell_type": "markdown",
   "metadata": {},
   "source": [
    "#### Ранг матрицы"
   ]
  },
  {
   "cell_type": "code",
   "execution_count": 54,
   "metadata": {},
   "outputs": [
    {
     "name": "stdout",
     "output_type": "stream",
     "text": [
      "[[ 5  0  4  1]\n",
      " [ 3 30 36 45]\n",
      " [ 1 10 12 15]\n",
      " [ 2  0 10 13]]\n",
      "rank = 3\n"
     ]
    }
   ],
   "source": [
    "A = np.random.randint(0, 16, size=(4, 4))\n",
    "A[1] = A[2] * 3     # добавим линейную зависимость\n",
    "print(A)\n",
    "rank = np.linalg.matrix_rank(A)\n",
    "print(f\"{rank = }\")"
   ]
  },
  {
   "cell_type": "code",
   "execution_count": 56,
   "metadata": {},
   "outputs": [
    {
     "name": "stdout",
     "output_type": "stream",
     "text": [
      "[[ 1  5  4  0]\n",
      " [ 1 13  7  0]\n",
      " [14  7 14  0]\n",
      " [15  9 13  0]]\n"
     ]
    },
    {
     "ename": "LinAlgError",
     "evalue": "Singular matrix",
     "output_type": "error",
     "traceback": [
      "\u001b[1;31m---------------------------------------------------------------------------\u001b[0m",
      "\u001b[1;31mLinAlgError\u001b[0m                               Traceback (most recent call last)",
      "\u001b[1;32mC:\\Users\\DROSOP~1\\AppData\\Local\\Temp/ipykernel_18072/3428091905.py\u001b[0m in \u001b[0;36m<module>\u001b[1;34m\u001b[0m\n\u001b[0;32m      3\u001b[0m \u001b[0mprint\u001b[0m\u001b[1;33m(\u001b[0m\u001b[0mA\u001b[0m\u001b[1;33m)\u001b[0m\u001b[1;33m\u001b[0m\u001b[1;33m\u001b[0m\u001b[0m\n\u001b[0;32m      4\u001b[0m \u001b[0mB\u001b[0m \u001b[1;33m=\u001b[0m \u001b[0mnp\u001b[0m\u001b[1;33m.\u001b[0m\u001b[0marray\u001b[0m\u001b[1;33m(\u001b[0m\u001b[1;33m[\u001b[0m\u001b[1;36m0\u001b[0m\u001b[1;33m,\u001b[0m \u001b[1;36m0\u001b[0m\u001b[1;33m,\u001b[0m \u001b[1;36m0\u001b[0m\u001b[1;33m,\u001b[0m \u001b[1;36m0\u001b[0m\u001b[1;33m]\u001b[0m\u001b[1;33m)\u001b[0m\u001b[1;33m\u001b[0m\u001b[1;33m\u001b[0m\u001b[0m\n\u001b[1;32m----> 5\u001b[1;33m \u001b[0mnp\u001b[0m\u001b[1;33m.\u001b[0m\u001b[0mlinalg\u001b[0m\u001b[1;33m.\u001b[0m\u001b[0msolve\u001b[0m\u001b[1;33m(\u001b[0m\u001b[0mA\u001b[0m\u001b[1;33m,\u001b[0m \u001b[0mB\u001b[0m\u001b[1;33m)\u001b[0m\u001b[1;33m\u001b[0m\u001b[1;33m\u001b[0m\u001b[0m\n\u001b[0m",
      "\u001b[1;32mc:\\Miniconda3\\envs\\tf\\lib\\site-packages\\numpy\\core\\overrides.py\u001b[0m in \u001b[0;36msolve\u001b[1;34m(*args, **kwargs)\u001b[0m\n",
      "\u001b[1;32mc:\\Miniconda3\\envs\\tf\\lib\\site-packages\\numpy\\linalg\\linalg.py\u001b[0m in \u001b[0;36msolve\u001b[1;34m(a, b)\u001b[0m\n\u001b[0;32m    391\u001b[0m     \u001b[0msignature\u001b[0m \u001b[1;33m=\u001b[0m \u001b[1;34m'DD->D'\u001b[0m \u001b[1;32mif\u001b[0m \u001b[0misComplexType\u001b[0m\u001b[1;33m(\u001b[0m\u001b[0mt\u001b[0m\u001b[1;33m)\u001b[0m \u001b[1;32melse\u001b[0m \u001b[1;34m'dd->d'\u001b[0m\u001b[1;33m\u001b[0m\u001b[1;33m\u001b[0m\u001b[0m\n\u001b[0;32m    392\u001b[0m     \u001b[0mextobj\u001b[0m \u001b[1;33m=\u001b[0m \u001b[0mget_linalg_error_extobj\u001b[0m\u001b[1;33m(\u001b[0m\u001b[0m_raise_linalgerror_singular\u001b[0m\u001b[1;33m)\u001b[0m\u001b[1;33m\u001b[0m\u001b[1;33m\u001b[0m\u001b[0m\n\u001b[1;32m--> 393\u001b[1;33m     \u001b[0mr\u001b[0m \u001b[1;33m=\u001b[0m \u001b[0mgufunc\u001b[0m\u001b[1;33m(\u001b[0m\u001b[0ma\u001b[0m\u001b[1;33m,\u001b[0m \u001b[0mb\u001b[0m\u001b[1;33m,\u001b[0m \u001b[0msignature\u001b[0m\u001b[1;33m=\u001b[0m\u001b[0msignature\u001b[0m\u001b[1;33m,\u001b[0m \u001b[0mextobj\u001b[0m\u001b[1;33m=\u001b[0m\u001b[0mextobj\u001b[0m\u001b[1;33m)\u001b[0m\u001b[1;33m\u001b[0m\u001b[1;33m\u001b[0m\u001b[0m\n\u001b[0m\u001b[0;32m    394\u001b[0m \u001b[1;33m\u001b[0m\u001b[0m\n\u001b[0;32m    395\u001b[0m     \u001b[1;32mreturn\u001b[0m \u001b[0mwrap\u001b[0m\u001b[1;33m(\u001b[0m\u001b[0mr\u001b[0m\u001b[1;33m.\u001b[0m\u001b[0mastype\u001b[0m\u001b[1;33m(\u001b[0m\u001b[0mresult_t\u001b[0m\u001b[1;33m,\u001b[0m \u001b[0mcopy\u001b[0m\u001b[1;33m=\u001b[0m\u001b[1;32mFalse\u001b[0m\u001b[1;33m)\u001b[0m\u001b[1;33m)\u001b[0m\u001b[1;33m\u001b[0m\u001b[1;33m\u001b[0m\u001b[0m\n",
      "\u001b[1;32mc:\\Miniconda3\\envs\\tf\\lib\\site-packages\\numpy\\linalg\\linalg.py\u001b[0m in \u001b[0;36m_raise_linalgerror_singular\u001b[1;34m(err, flag)\u001b[0m\n\u001b[0;32m     86\u001b[0m \u001b[1;33m\u001b[0m\u001b[0m\n\u001b[0;32m     87\u001b[0m \u001b[1;32mdef\u001b[0m \u001b[0m_raise_linalgerror_singular\u001b[0m\u001b[1;33m(\u001b[0m\u001b[0merr\u001b[0m\u001b[1;33m,\u001b[0m \u001b[0mflag\u001b[0m\u001b[1;33m)\u001b[0m\u001b[1;33m:\u001b[0m\u001b[1;33m\u001b[0m\u001b[1;33m\u001b[0m\u001b[0m\n\u001b[1;32m---> 88\u001b[1;33m     \u001b[1;32mraise\u001b[0m \u001b[0mLinAlgError\u001b[0m\u001b[1;33m(\u001b[0m\u001b[1;34m\"Singular matrix\"\u001b[0m\u001b[1;33m)\u001b[0m\u001b[1;33m\u001b[0m\u001b[1;33m\u001b[0m\u001b[0m\n\u001b[0m\u001b[0;32m     89\u001b[0m \u001b[1;33m\u001b[0m\u001b[0m\n\u001b[0;32m     90\u001b[0m \u001b[1;32mdef\u001b[0m \u001b[0m_raise_linalgerror_nonposdef\u001b[0m\u001b[1;33m(\u001b[0m\u001b[0merr\u001b[0m\u001b[1;33m,\u001b[0m \u001b[0mflag\u001b[0m\u001b[1;33m)\u001b[0m\u001b[1;33m:\u001b[0m\u001b[1;33m\u001b[0m\u001b[1;33m\u001b[0m\u001b[0m\n",
      "\u001b[1;31mLinAlgError\u001b[0m: Singular matrix"
     ]
    }
   ],
   "source": [
    "A = np.random.randint(0, 16, size=(4, 4))\n",
    "A[:, 3] = 0\n",
    "print(A)\n",
    "B = np.array([0, 0, 0, 0])\n",
    "np.linalg.solve(A, B)"
   ]
  },
  {
   "cell_type": "code",
   "execution_count": 57,
   "metadata": {},
   "outputs": [
    {
     "name": "stdout",
     "output_type": "stream",
     "text": [
      "2e-16\n",
      "5e-16\n"
     ]
    }
   ],
   "source": [
    "delta1 = 0.0000000000000002\n",
    "delta2 = 5 * 10**-16\n",
    "print(delta1)\n",
    "print(delta2)"
   ]
  },
  {
   "attachments": {},
   "cell_type": "markdown",
   "metadata": {},
   "source": [
    "#### Линейная зависимость и коллинеарность двух векторов"
   ]
  },
  {
   "cell_type": "code",
   "execution_count": 58,
   "metadata": {},
   "outputs": [],
   "source": [
    "def vectorCos(a, b):\n",
    "    \"\"\" a, b: vectors\n",
    "    return: косинус угла между векторами\n",
    "    \"\"\"\n",
    "    assert len(a) == len(b), 'vectors have different sizes'\n",
    "    aNorm = np.sqrt(np.sum(a ** 2))\n",
    "    bNorm = np.sqrt(np.sum(b ** 2))\n",
    "    return np.dot(a, b) / (aNorm * bNorm)\n",
    "\n",
    "\n",
    "def isCollinear(a, b):\n",
    "    \"\"\" a, b: vectors\n",
    "    return: True, если векторы коллинеарны и False в противном случае\n",
    "    \"\"\"\n",
    "    cos = vectorCos(a, b)\n",
    "    # с ростом размерности растет ожидаемая погрешность\n",
    "    delta = 2 * np.log10(len(a)) * 10**-15\n",
    "    \n",
    "    if np.abs(cos - 1) < delta:\n",
    "        return True\n",
    "    else:\n",
    "        return False\n",
    "\n",
    "\n",
    "def isDependent(a, b):\n",
    "    \"\"\" a, b: vectors\n",
    "    return: True, если векторы линейно зависимы и False в противном случае\n",
    "    \"\"\"\n",
    "    assert len(a) == len(b), 'vectors have different sizes'\n",
    "    # если хотя бы один из векторов является нулевым, то\n",
    "    # векторы являются линейно зависимыми\n",
    "    if np.sum(a**2) == 0 or np.sum(b**2) == 0:\n",
    "        return True\n",
    "\n",
    "    value = None\n",
    "    for i in range(0, len(a)):\n",
    "        if b[i] == 0 and a[i] != 0:\n",
    "            return False\n",
    "        elif b[i] != 0:\n",
    "            if value is None:\n",
    "                value = a[i] / b[i]\n",
    "            elif a[i] / b[i] != value:\n",
    "                return False\n",
    "    return True"
   ]
  },
  {
   "cell_type": "code",
   "execution_count": 59,
   "metadata": {},
   "outputs": [
    {
     "name": "stdout",
     "output_type": "stream",
     "text": [
      "0.9999999999999998\n",
      "True\n",
      "False\n"
     ]
    }
   ],
   "source": [
    "# создадим заведомо коллинеарные (линейно зависимые векторы):\n",
    "a = np.array([np.random.uniform(-100, 100) for i in range(10)])\n",
    "b = a * 1000\n",
    "\n",
    "print(vectorCos(a, b))\n",
    "print(isCollinear(a, b))\n",
    "print(isDependent(a, b))"
   ]
  },
  {
   "attachments": {},
   "cell_type": "markdown",
   "metadata": {},
   "source": [
    "Здесь возникает интересный момент. Если несколько раз запускать предыдущую ячейку, можно заметить, что несмотря на заведомую линейную зависимость векторов, функция `isDependent` часто выдает `False`. Это связанно с тем, что множество арифметических операций с числами float накапливает погрешности, и в результате сравнение двух теоретически одинаковых чисел возвращает `False`. Синус угла между коллинеарными векторами равен ровно 1. Однако можно заметить, что расчитанная величина может отличаться от 1. В функции `isCollinear` учтен этот момент и такие мелкие колебания относительно 1 не влияют на результат."
   ]
  },
  {
   "cell_type": "code",
   "execution_count": null,
   "metadata": {},
   "outputs": [
    {
     "name": "stdout",
     "output_type": "stream",
     "text": [
      " 22.0 %"
     ]
    },
    {
     "ename": "KeyboardInterrupt",
     "evalue": "",
     "output_type": "error",
     "traceback": [
      "\u001b[1;31m---------------------------------------------------------------------------\u001b[0m",
      "\u001b[1;31mKeyboardInterrupt\u001b[0m                         Traceback (most recent call last)",
      "\u001b[1;32mC:\\Users\\DROSOP~1\\AppData\\Local\\Temp/ipykernel_18072/3202990260.py\u001b[0m in \u001b[0;36m<module>\u001b[1;34m\u001b[0m\n\u001b[0;32m      7\u001b[0m     \u001b[0ma\u001b[0m \u001b[1;33m=\u001b[0m \u001b[0mnp\u001b[0m\u001b[1;33m.\u001b[0m\u001b[0marray\u001b[0m\u001b[1;33m(\u001b[0m\u001b[1;33m[\u001b[0m\u001b[0mnp\u001b[0m\u001b[1;33m.\u001b[0m\u001b[0mrandom\u001b[0m\u001b[1;33m.\u001b[0m\u001b[0muniform\u001b[0m\u001b[1;33m(\u001b[0m\u001b[1;33m-\u001b[0m\u001b[1;36m100\u001b[0m\u001b[1;33m,\u001b[0m \u001b[1;36m100\u001b[0m\u001b[1;33m)\u001b[0m \u001b[1;32mfor\u001b[0m \u001b[0mi\u001b[0m \u001b[1;32min\u001b[0m \u001b[0mrange\u001b[0m\u001b[1;33m(\u001b[0m\u001b[1;36m3\u001b[0m\u001b[1;33m)\u001b[0m\u001b[1;33m]\u001b[0m\u001b[1;33m)\u001b[0m\u001b[1;33m\u001b[0m\u001b[1;33m\u001b[0m\u001b[0m\n\u001b[0;32m      8\u001b[0m     \u001b[0mb\u001b[0m \u001b[1;33m=\u001b[0m \u001b[0ma\u001b[0m \u001b[1;33m*\u001b[0m \u001b[1;36m1000\u001b[0m\u001b[1;33m\u001b[0m\u001b[1;33m\u001b[0m\u001b[0m\n\u001b[1;32m----> 9\u001b[1;33m     \u001b[0mX\u001b[0m\u001b[1;33m.\u001b[0m\u001b[0mappend\u001b[0m\u001b[1;33m(\u001b[0m\u001b[0mvectorCos\u001b[0m\u001b[1;33m(\u001b[0m\u001b[0ma\u001b[0m\u001b[1;33m,\u001b[0m \u001b[0mb\u001b[0m\u001b[1;33m)\u001b[0m\u001b[1;33m)\u001b[0m\u001b[1;33m\u001b[0m\u001b[1;33m\u001b[0m\u001b[0m\n\u001b[0m\u001b[0;32m     10\u001b[0m     \u001b[1;32mif\u001b[0m \u001b[0misCollinear\u001b[0m\u001b[1;33m(\u001b[0m\u001b[0ma\u001b[0m\u001b[1;33m,\u001b[0m \u001b[0mb\u001b[0m\u001b[1;33m)\u001b[0m \u001b[1;32mis\u001b[0m \u001b[1;32mFalse\u001b[0m\u001b[1;33m:\u001b[0m\u001b[1;33m\u001b[0m\u001b[1;33m\u001b[0m\u001b[0m\n\u001b[0;32m     11\u001b[0m         \u001b[0mprint\u001b[0m\u001b[1;33m(\u001b[0m\u001b[1;34m\"error\"\u001b[0m\u001b[1;33m)\u001b[0m\u001b[1;33m\u001b[0m\u001b[1;33m\u001b[0m\u001b[0m\n",
      "\u001b[1;32mC:\\Users\\DROSOP~1\\AppData\\Local\\Temp/ipykernel_18072/3422003877.py\u001b[0m in \u001b[0;36mvectorCos\u001b[1;34m(a, b)\u001b[0m\n\u001b[0;32m      6\u001b[0m     \u001b[0maNorm\u001b[0m \u001b[1;33m=\u001b[0m \u001b[0mnp\u001b[0m\u001b[1;33m.\u001b[0m\u001b[0msqrt\u001b[0m\u001b[1;33m(\u001b[0m\u001b[0mnp\u001b[0m\u001b[1;33m.\u001b[0m\u001b[0msum\u001b[0m\u001b[1;33m(\u001b[0m\u001b[0ma\u001b[0m \u001b[1;33m**\u001b[0m \u001b[1;36m2\u001b[0m\u001b[1;33m)\u001b[0m\u001b[1;33m)\u001b[0m\u001b[1;33m\u001b[0m\u001b[1;33m\u001b[0m\u001b[0m\n\u001b[0;32m      7\u001b[0m     \u001b[0mbNorm\u001b[0m \u001b[1;33m=\u001b[0m \u001b[0mnp\u001b[0m\u001b[1;33m.\u001b[0m\u001b[0msqrt\u001b[0m\u001b[1;33m(\u001b[0m\u001b[0mnp\u001b[0m\u001b[1;33m.\u001b[0m\u001b[0msum\u001b[0m\u001b[1;33m(\u001b[0m\u001b[0mb\u001b[0m \u001b[1;33m**\u001b[0m \u001b[1;36m2\u001b[0m\u001b[1;33m)\u001b[0m\u001b[1;33m)\u001b[0m\u001b[1;33m\u001b[0m\u001b[1;33m\u001b[0m\u001b[0m\n\u001b[1;32m----> 8\u001b[1;33m     \u001b[1;32mreturn\u001b[0m \u001b[0mnp\u001b[0m\u001b[1;33m.\u001b[0m\u001b[0mdot\u001b[0m\u001b[1;33m(\u001b[0m\u001b[0ma\u001b[0m\u001b[1;33m,\u001b[0m \u001b[0mb\u001b[0m\u001b[1;33m)\u001b[0m \u001b[1;33m/\u001b[0m \u001b[1;33m(\u001b[0m\u001b[0maNorm\u001b[0m \u001b[1;33m*\u001b[0m \u001b[0mbNorm\u001b[0m\u001b[1;33m)\u001b[0m\u001b[1;33m\u001b[0m\u001b[1;33m\u001b[0m\u001b[0m\n\u001b[0m\u001b[0;32m      9\u001b[0m \u001b[1;33m\u001b[0m\u001b[0m\n\u001b[0;32m     10\u001b[0m \u001b[1;33m\u001b[0m\u001b[0m\n",
      "\u001b[1;32mc:\\Miniconda3\\envs\\tf\\lib\\site-packages\\numpy\\core\\overrides.py\u001b[0m in \u001b[0;36mdot\u001b[1;34m(*args, **kwargs)\u001b[0m\n",
      "\u001b[1;31mKeyboardInterrupt\u001b[0m: "
     ]
    }
   ],
   "source": [
    "# Тестирование накопления численных погрешностей:\n",
    "\n",
    "X = []\n",
    "samples = 50000\n",
    "for i in range(samples):\n",
    "    print(f\"\\r {100 * i / samples :.1f} %\", end='')\n",
    "    a = np.array([np.random.uniform(-100, 100) for i in range(3)])\n",
    "    b = a * 1000\n",
    "    X.append(vectorCos(a, b))\n",
    "    if isCollinear(a, b) is False:\n",
    "        print(\"error\")\n",
    "\n",
    "print(f\"\\rdelta = {2 * np.log10(len(a)) * 10**-15}\")\n",
    "print(f\"{max(X) - 1 = }\")\n",
    "print(f\"{1 - min(X) = }\")"
   ]
  },
  {
   "attachments": {},
   "cell_type": "markdown",
   "metadata": {},
   "source": [
    "Еще один способ выяснить, является ли пара векторов (и даже произвольное множество векторов) линейно зависимой. Составляется матрица из векторов и вычисляется ранг матрицы. Если ранг меньше количества векторов, значит вектора линейно зависимы."
   ]
  },
  {
   "cell_type": "code",
   "execution_count": null,
   "metadata": {},
   "outputs": [],
   "source": [
    "# создадим линейно независимые векторы\n",
    "a = np.array([2, 4, 5, 6, 7, 8])\n",
    "b = np.array([1, 2, 3, 4, 5, 6])\n",
    "c = np.array([0, 3, 4, 4, 3, 2])\n",
    "\n",
    "M = np.vstack((a, b, c))\n",
    "print(np.linalg.matrix_rank(M))\n",
    "\n",
    "# сделам a и b линейно зависимыми\n",
    "b = a * 3\n",
    "\n",
    "M = np.vstack((a, b, c))\n",
    "print(np.linalg.matrix_rank(M))"
   ]
  }
 ],
 "metadata": {
  "kernelspec": {
   "display_name": "Python 3 (ipykernel)",
   "language": "python",
   "name": "python3"
  },
  "language_info": {
   "codemirror_mode": {
    "name": "ipython",
    "version": 3
   },
   "file_extension": ".py",
   "mimetype": "text/x-python",
   "name": "python",
   "nbconvert_exporter": "python",
   "pygments_lexer": "ipython3",
   "version": "3.8.11"
  },
  "vscode": {
   "interpreter": {
    "hash": "4a7aeb4888de122d45ff47de436d3090a31d8ac82b439abb27a086a548605002"
   }
  }
 },
 "nbformat": 4,
 "nbformat_minor": 2
}
