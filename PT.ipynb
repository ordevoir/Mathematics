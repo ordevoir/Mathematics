{
 "cells": [
  {
   "cell_type": "markdown",
   "metadata": {},
   "source": [
    "Законом распределения дискретной двумерной случайной величины $(X, Y)$ называется перечень всевозможных значений этой величины, т.е. пар чисел $(x_i, y_i)$, и их вероятностей $p(x_i, y_i)$, где $i=1,2,\\ldots, n, \\space j=1,2,\\ldots, m$."
   ]
  },
  {
   "cell_type": "code",
   "execution_count": null,
   "metadata": {},
   "outputs": [],
   "source": []
  }
 ],
 "metadata": {
  "language_info": {
   "name": "python"
  },
  "orig_nbformat": 4
 },
 "nbformat": 4,
 "nbformat_minor": 2
}
