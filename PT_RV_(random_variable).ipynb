{
  "cells": [
    {
      "cell_type": "markdown",
      "metadata": {
        "id": "NPbLO_cBMGLA"
      },
      "source": [
        "# Случайные величины\n",
        "**Случайная величина** (*random variable*) представляет собой переменную, которая в результате испытаний принимает одно из возможных значений, наперед не известное и зависящее от случайных причин, которые заранее не могут быть учтены.\n",
        "\n",
        "**Дискретная** (*discrete*) случайная величина принимает изолированные значения, в то время как **непрерывная** (*continuous*) случайная величина принимает значения из некоторого непрерывного конечного или бесконечного промежутка.\n",
        "\n",
        "**Законом распределения дискретной случайной величины** называется соответствие между возможными значениями и из вероятностями."
      ]
    },
    {
      "cell_type": "code",
      "execution_count": 2,
      "metadata": {
        "id": "sOYeS_tLMGLR"
      },
      "outputs": [],
      "source": [
        "import numpy as np\n",
        "import matplotlib.pyplot as plt\n",
        "\n",
        "def normalize(array):\n",
        "    \"\"\" нормализует значения массива, чтобы сумма элементов равнялась 1 \"\"\"\n",
        "    return array / array.sum(axis=0)"
      ]
    },
    {
      "cell_type": "markdown",
      "metadata": {
        "id": "qQWhQs0LMGLS"
      },
      "source": [
        "## Одномерная случайная величина\n",
        "\n",
        "Сформируем дискретную случайную величину, определив множество возможных значений и вероятности их выпадения в массивах `X` и `p`. Визуализируем **распределение вероятностей** (*Probability Distribution*):"
      ]
    },
    {
      "cell_type": "code",
      "execution_count": 15,
      "metadata": {
        "id": "6zA183_lMGLT"
      },
      "outputs": [
        {
          "data": {
            "text/plain": [
              "'len(X) = 9, len(p) = 9, sum(p) = 1.0'"
            ]
          },
          "execution_count": 15,
          "metadata": {},
          "output_type": "execute_result"
        },
        {
          "data": {
            "image/png": "[encoded data removed]",
            "text/plain": [
              "<Figure size 640x480 with 1 Axes>"
            ]
          },
          "metadata": {},
          "output_type": "display_data"
        }
      ],
      "source": [
        "X = np.array([-3, -2, -1, 0, 1, 2, 3, 4, 5])\n",
        "p = np.array([0.05, 0.08, 0.13, 0.24, 0.06, 0.15, 0.12, 0.08, 0.09])\n",
        "\n",
        "plt.bar(X, p)\n",
        "(f\"{len(X) = }, {len(p) = }, {sum(p) = }\")"
      ]
    },
    {
      "cell_type": "markdown",
      "metadata": {},
      "source": [
        "Функцию, которая возвращает вероятность того, что дискретная случайная величина $X$ примет определенное значение $n$ называется **функцией вероятности** (*Probability Mass Function* - PMF):"
      ]
    },
    {
      "cell_type": "code",
      "execution_count": 38,
      "metadata": {},
      "outputs": [
        {
          "data": {
            "text/plain": [
              "0.13"
            ]
          },
          "execution_count": 38,
          "metadata": {},
          "output_type": "execute_result"
        }
      ],
      "source": [
        "def pmf(n, X, p):\n",
        "    index = None\n",
        "    for i in range(len(X)):\n",
        "        if X[i] == n:\n",
        "            index = i\n",
        "            break \n",
        "    return 0 if index is None else p[index]\n",
        "\n",
        "pmf(-1, X, p)"
      ]
    },
    {
      "cell_type": "markdown",
      "metadata": {
        "id": "3oDmTtNxMGLU"
      },
      "source": [
        "### Функция распределения\n",
        "\n",
        "**Функция распределения** (*Cumulative Distribution Function* - CDF) вероятностей случайной величины называется функция $F(x)$, определяющая вероятность того, что случайная величина $X$ в результате испытаний примент значение, меньшее $x$. Функция распределения, очевидно, является монотонной неубывающей функцией.\n",
        "\n",
        "Определим функцию `cdf()`, которая по заданному `x` возвращает значение функции распределения данной случайной величины."
      ]
    },
    {
      "cell_type": "code",
      "execution_count": 7,
      "metadata": {
        "colab": {
          "base_uri": "https://localhost:8080/"
        },
        "id": "ALN0UR8DM5nS",
        "outputId": "c93a511a-c026-49f0-c845-c444cd34d48d"
      },
      "outputs": [
        {
          "data": {
            "text/plain": [
              "0.56"
            ]
          },
          "execution_count": 7,
          "metadata": {},
          "output_type": "execute_result"
        }
      ],
      "source": [
        "def cdf(x, X, p):\n",
        "    probability = 0\n",
        "    for i in range(len(X)):\n",
        "        if X[i] < x:\n",
        "            probability += p[i]\n",
        "    return probability\n",
        "\n",
        "cdf(5, X, p)"
      ]
    },
    {
      "cell_type": "code",
      "execution_count": 16,
      "metadata": {
        "colab": {
          "base_uri": "https://localhost:8080/",
          "height": 538
        },
        "id": "td6o7Iw5STsq",
        "outputId": "4d916b21-fcce-40fb-dac6-40ee772215ee"
      },
      "outputs": [
        {
          "name": "stdout",
          "output_type": "stream",
          "text": [
            "values = array([-5, -4, -3, -2, -1,  0,  1,  2,  3,  4,  5,  6,  7,  8])\n",
            "cdf_sequence = array([0.  , 0.  , 0.  , 0.05, 0.13, 0.26, 0.5 , 0.56, 0.71, 0.83, 0.91,\n",
            "       1.  , 1.  , 1.  ])\n"
          ]
        },
        {
          "data": {
            "image/png": "[encoded data removed]",
            "text/plain": [
              "<Figure size 640x480 with 1 Axes>"
            ]
          },
          "metadata": {},
          "output_type": "display_data"
        }
      ],
      "source": [
        "values = np.arange(-5, 9)\n",
        "cdf_sequence = np.zeros(14)\n",
        "\n",
        "for i in range(len(values)):\n",
        "    c = cdf(values[i], X, p)\n",
        "    cdf_sequence[i] = c\n",
        "\n",
        "plt.plot(values, cdf_sequence)\n",
        "plt.xlabel(\"X\")\n",
        "plt.ylabel(\"CDF\")\n",
        "print(f\"{values = }\\n{cdf_sequence = }\")"
      ]
    },
    {
      "cell_type": "markdown",
      "metadata": {
        "id": "Dm0F5xnnWJ1u"
      },
      "source": [
        "### Плотность вероятности\n",
        "\n",
        "Когда мы имеем дело с непрерывной случайной величиной, определенной на некотором открытом или закрытом промежуте, то вероятность выпадения конкретного значения является нулевой. Поэтому вместо распределения вероятностей для задания распределения случайной величины используется **плотность вероятности** (*Probability Density Function* - PDF), которая определяет вероятность выпадения значений, лежащих в некотором диапозоне.\n",
        "\n",
        "Функция распределения $F(x)$ непрерывной случайной величины является непрерывной, кусочно-дифференцируемой функцией. Вероятность $p$ того, что случайная величина примет значение, лежащее на отрезке $[a, b]$, равна приращению функции распределения на этом интервале:\n",
        "$$\n",
        "p(a \\leq X \\leq b) = F(a) - F(b)\n",
        "$$\n",
        "\n",
        "\n",
        "Если известна функция распределения F(x), плотность вероятности может быть получена как производная от функции распределения.\n",
        "\n",
        "Предположим, что функция распределения задана сигмоидой c $\\alpha = 0.1$:"
      ]
    },
    {
      "cell_type": "code",
      "execution_count": 13,
      "metadata": {},
      "outputs": [
        {
          "data": {
            "text/plain": [
              "[<matplotlib.lines.Line2D at 0x249f75d63e0>]"
            ]
          },
          "execution_count": 13,
          "metadata": {},
          "output_type": "execute_result"
        },
        {
          "data": {
            "image/png": "[encoded data removed]",
            "text/plain": [
              "<Figure size 640x480 with 1 Axes>"
            ]
          },
          "metadata": {},
          "output_type": "display_data"
        }
      ],
      "source": [
        "def sigmoid(x, alpha=0.1):\n",
        "    return 1 / (1 + np.exp(-alpha * x))\n",
        "\n",
        "segment = np.linspace(-100, 100, 1000)\n",
        "cdf_sequence = np.zeros_like(segment)\n",
        "\n",
        "for i in range(len(segment)):\n",
        "    cdf_sequence[i] = sigmoid(segment[i])\n",
        "\n",
        "plt.plot(segment, cdf_sequence)"
      ]
    },
    {
      "cell_type": "markdown",
      "metadata": {},
      "source": [
        "Напишем функцию `deriv_sigmoid`, которая возвращает значение производной сигмоиды в точе `x`. Тогда мы сможем получить значения плотности вероятности на рассматриваемом отрезке `segment`:"
      ]
    },
    {
      "cell_type": "code",
      "execution_count": 14,
      "metadata": {},
      "outputs": [
        {
          "data": {
            "text/plain": [
              "[<matplotlib.lines.Line2D at 0x249f77a15d0>]"
            ]
          },
          "execution_count": 14,
          "metadata": {},
          "output_type": "execute_result"
        },
        {
          "data": {
            "image/png": "[encoded data removed]",
            "text/plain": [
              "<Figure size 640x480 with 1 Axes>"
            ]
          },
          "metadata": {},
          "output_type": "display_data"
        }
      ],
      "source": [
        "def deriv_sigmoid(x, alpha=0.1):\n",
        "    return sigmoid(x, alpha) * (1 - sigmoid(x, alpha))\n",
        "\n",
        "pdf = np.zeros_like(segment)\n",
        "for i in range(len(segment)):\n",
        "    pdf[i] = deriv_sigmoid(segment[i])\n",
        "\n",
        "plt.plot(segment, pdf)"
      ]
    },
    {
      "cell_type": "markdown",
      "metadata": {},
      "source": [
        "Для того, чтобы по плотности вероятности $f(x)$ вычислить вероятность того, что случайная величина примет значение, лежащее на отрезке $[a, b]$, нужно проинтегрировать плотность вероятности в прделах от $a$ до $b$:\n",
        "$$\n",
        "p(a \\leq X \\leq b) = \\int_a^b f(x) dx\n",
        "$$\n",
        "Так как функция распределения $F(x)$ является первообразной плотности вероятности, то\n",
        "$$\n",
        "\\int_a^b f(x) dx = F(b) - F(a)\n",
        "$$\n",
        "Что соответствует описанной выше формуле для функции вероятности."
      ]
    },
    {
      "cell_type": "markdown",
      "metadata": {
        "id": "4IJlieTqMGLV"
      },
      "source": [
        "### Математическое ожидание\n",
        "\n",
        "**Математическое ожидание** (*expected value*) – это среднее значение случайной величины, которое показывает, какой результат в среднем можно ожидать от повторения эксперимента много раз.\n",
        "\n",
        "$$ \\mathrm E[X]=\\sum_{i=1}^n x_1p_1$$\n",
        "для непрерывного распределения\n",
        "$$ \\mathrm E[X] = \\int\\limits_{-\\infty}^\\infty xf(x)$$\n",
        "где $f(x)$ - функция плотности распределения"
      ]
    },
    {
      "cell_type": "code",
      "execution_count": null,
      "metadata": {
        "id": "BSdQ_KX6MGLV",
        "outputId": "1ba5bb40-fe97-4e9a-9316-bc409b8792cf"
      },
      "outputs": [
        {
          "data": {
            "text/plain": [
              "4.11"
            ]
          },
          "execution_count": 3,
          "metadata": {},
          "output_type": "execute_result"
        }
      ],
      "source": [
        "def EV(X, p):\n",
        "    \"\"\"Математическое ожидание\"\"\"\n",
        "    return sum(X*p)\n",
        "EV(X, p)"
      ]
    },
    {
      "cell_type": "markdown",
      "metadata": {
        "id": "6ZGePqBwMGLV"
      },
      "source": [
        "Если распределение вероятностей случайной величины неизвестно, математическое ожидание можно получить из результатов большого количества испытаний как среднее значение всех исходов (*sample mean*):\n",
        "$$ \\overline x = \\frac{1}{n} \\sum_{i=1}^n x_i $$"
      ]
    },
    {
      "cell_type": "code",
      "execution_count": null,
      "metadata": {
        "id": "_GwzLrhiMGLW",
        "outputId": "395d2ad1-8292-4a35-dc48-8711d63cc4f3"
      },
      "outputs": [
        {
          "data": {
            "text/plain": [
              "4.111806"
            ]
          },
          "execution_count": 4,
          "metadata": {},
          "output_type": "execute_result"
        }
      ],
      "source": [
        "# сгенерируем множество исходов заданной случайной величины\n",
        "samples = np.random.choice(X, size=1000000, p=p)\n",
        "samples.mean()"
      ]
    },
    {
      "cell_type": "markdown",
      "metadata": {
        "id": "Ct98z_jQMGLW"
      },
      "source": [
        "### Отклонение случайной величины\n",
        "**Отклонение** (*deviation*) случайной величины представляет собой рзность случайной величины и его математического ожидания:\n",
        "$$ X - \\mathrm E[X] $$\n",
        "Вероятность отклонения $ x_i - \\mathrm E[X]$ равно вероятности $p_i$ значения $x_i$.\n",
        "\n",
        "Математическое ожидание отклонения равно нулю, так как отклонения в положительную сторону компенсируются отклонениями в отрицательную сторону (их значения отрицательны)."
      ]
    },
    {
      "cell_type": "code",
      "execution_count": null,
      "metadata": {
        "id": "NVm-1gN7MGLX",
        "outputId": "a3aefead-07c9-422f-fae9-7766b4856520"
      },
      "outputs": [
        {
          "name": "stdout",
          "output_type": "stream",
          "text": [
            "[-4.11 -3.11 -2.11 -1.11 -0.11  0.89  1.89  2.89  3.89]\n"
          ]
        },
        {
          "data": {
            "text/plain": [
              "-4.440892098500626e-16"
            ]
          },
          "execution_count": 5,
          "metadata": {},
          "output_type": "execute_result"
        }
      ],
      "source": [
        "deviations = X-EV(X, p)\n",
        "print(deviations)\n",
        "EV(deviations, p)   # Математическое ожидание отклонения равно нулю"
      ]
    },
    {
      "cell_type": "markdown",
      "metadata": {
        "id": "8kzBHQGlMGLX"
      },
      "source": [
        "### Дисперсия\n",
        "**Дисперсией** (*Variance*) дискретной случайной величины называется математическое ожидание *квадрата* отклонения случайной величины от ее математического ожидания:\n",
        "$$ \\mathrm{Var}(X) = \\mathrm E[(X - \\mathrm E[X])^2] = \\sum {(x_i - \\mathrm E[X])^2p_i} $$"
      ]
    },
    {
      "cell_type": "code",
      "execution_count": null,
      "metadata": {
        "id": "cECCoCAfMGLY",
        "outputId": "647786ab-9f93-49f9-9535-f99ee9c7e88e"
      },
      "outputs": [
        {
          "data": {
            "text/plain": [
              "4.9979000000000005"
            ]
          },
          "execution_count": 6,
          "metadata": {},
          "output_type": "execute_result"
        }
      ],
      "source": [
        "from statistics import variance\n",
        "from numpy import power\n",
        "\n",
        "def var(X, p):\n",
        "    ev = EV(X, p)\n",
        "    variance = 0\n",
        "    for i in range(len(X)):\n",
        "        variance += ((X[i] - ev) ** 2) * p[i]\n",
        "    return variance\n",
        "\n",
        "var(X, p)"
      ]
    },
    {
      "cell_type": "markdown",
      "metadata": {
        "id": "rQ-DSP00MGLY"
      },
      "source": [
        "### Выборочная дисперсия\n",
        "\n",
        "**Выборочная дисперсия** (*Sample Variance*) - дисперсия, оцениваемая эмпирически на основе данных выборки\n",
        "$$ \\tilde S_X^2 = \\frac{1}{n} \\sum_{i=1}^n (x_i - \\overline x)^2 $$\n",
        "\n",
        "**Несмещённая** (*unbiased*) выборочная дисперсия:\n",
        "$$ S_X^2 = \\frac{1}{n-1} \\sum_{i=1}^n (x_i - \\overline x)^2 $$\n",
        "Деление на $n-1$ вместо $n$ дает чуть более высокую оценку $ S_X^2 = \\frac{n}{n-1} \\tilde S_X^2$. При больших $n$ несмещенная дисперсия дает лучшую оценку, чем смещенная."
      ]
    },
    {
      "cell_type": "code",
      "execution_count": null,
      "metadata": {
        "id": "t8cEcAUfMGLY",
        "outputId": "f232c036-1573-405f-bc2c-a87a22dd2c67"
      },
      "outputs": [
        {
          "data": {
            "text/plain": [
              "4.993393418377746"
            ]
          },
          "execution_count": 7,
          "metadata": {},
          "output_type": "execute_result"
        }
      ],
      "source": [
        "def var(samples):\n",
        "    ev = samples.mean()\n",
        "    variance = 0\n",
        "    for s in samples:\n",
        "        variance += (s - ev) ** 2\n",
        "\n",
        "    return variance / len(samples)\n",
        "\n",
        "var(samples)"
      ]
    },
    {
      "cell_type": "code",
      "execution_count": null,
      "metadata": {
        "id": "_zDKjjvJMGLZ",
        "outputId": "e4a72377-a0f9-4e0e-de0c-11caca9ace09"
      },
      "outputs": [
        {
          "data": {
            "text/plain": [
              "4.993393418363999"
            ]
          },
          "execution_count": 8,
          "metadata": {},
          "output_type": "execute_result"
        }
      ],
      "source": [
        "np.var(samples)     # два вариана вычисления\n",
        "samples.var()       # дисперсии с numpy"
      ]
    },
    {
      "cell_type": "markdown",
      "metadata": {
        "id": "WHGtY95_MGLZ"
      },
      "source": [
        "### Стандартное отклонение\n",
        "**Стандартное отклонение** (*standard deviation*) или **среднеквадратическое отклонение**  – это мера того, насколько значения случайной величины разбросаны относительно её среднего значения. Стандартное отклонение вычисляется как квадратный корень от дисперсии:\n",
        "$$\n",
        "\\sigma_X = \\sqrt{\\mathrm{Var}(X)}\n",
        "$$"
      ]
    },
    {
      "cell_type": "code",
      "execution_count": null,
      "metadata": {
        "id": "lRgxhKIlMGLZ",
        "outputId": "5fe276d9-31dc-4456-9d31-735725a149b9"
      },
      "outputs": [
        {
          "data": {
            "text/plain": [
              "2.2345902126260193"
            ]
          },
          "execution_count": 9,
          "metadata": {},
          "output_type": "execute_result"
        }
      ],
      "source": [
        "np.std(samples)     # два вариана вычисления\n",
        "samples.std()       # среднеквадратического отклонения c numpy"
      ]
    },
    {
      "cell_type": "markdown",
      "metadata": {
        "id": "t4GlaGyHMGLa"
      },
      "source": [
        "### Мода, Медиана\n",
        "**Модой** (*Mode*) случайной величины называется ее наиболее вероятное значение.\n",
        "\n",
        "**Медианой** (*Median*)случайной величины называется такое значение, для которого вероятность получить большее значение равно вероятности получить меньшее значение ($0.5$). Если случайная величина является непрерывной, то медиана может быть представлена уравнением:\n",
        "$$\n",
        "\\int_{- \\infty}^m f(x)dx = 0.5\n",
        "$$\n",
        "Где $f(x)$ – *плотность вероятности распределения* случайной величнины (*probabity density function* - PDF)\n"
      ]
    },
    {
      "cell_type": "markdown",
      "metadata": {
        "id": "aRYTvpzgMGLa"
      },
      "source": [
        "## Ковариация (корреляционный момент) (covariance)"
      ]
    },
    {
      "cell_type": "markdown",
      "metadata": {
        "id": "u2F--KjPMGLa"
      },
      "source": [
        "Ковариация является мерой зависимости двух случайных величин. Для двух случайных величин, определенных на одном и том же вероятностном пространстве ковариация определяется следующим образом:\n",
        "$$ \\mathrm{cov}(X,Y) = \\mathrm E[(X - \\mathrm E(X))(Y - \\mathrm E(Y))] $$\n",
        "где $\\mathrm E$ - математическое ожидание.\n"
      ]
    },
    {
      "cell_type": "markdown",
      "metadata": {
        "id": "zytkagNqMGLb"
      },
      "source": [
        "Создадим для начала две случайные величины, которые будут коррелировать, в виде наборов исходов испытаний."
      ]
    },
    {
      "cell_type": "code",
      "execution_count": null,
      "metadata": {
        "id": "jDVZy-ZHMGLb",
        "outputId": "bf7069eb-940c-4c82-9358-14ce79583dc2"
      },
      "outputs": [
        {
          "data": {
            "image/png": "[encoded data removed]",
            "text/plain": [
              "<Figure size 432x288 with 1 Axes>"
            ]
          },
          "metadata": {
            "needs_background": "light"
          },
          "output_type": "display_data"
        }
      ],
      "source": [
        "# для начала зададим значения X и Y функциями:\n",
        "sample_size = 10000\n",
        "\n",
        "X = np.empty(sample_size)\n",
        "Y = np.empty(sample_size)\n",
        "for i in range(sample_size):\n",
        "    x = i / 100\n",
        "    X[i] = 6 * x  + 700\n",
        "    Y[i] = 0.1 * (x**2) + 300\n",
        "\n",
        "plt.plot(X)\n",
        "plt.plot(Y)\n",
        "plt.show()"
      ]
    },
    {
      "cell_type": "code",
      "execution_count": null,
      "metadata": {
        "id": "Ax357DkvMGLc",
        "outputId": "69d46949-2a33-4aee-c4fb-16888512e51d"
      },
      "outputs": [
        {
          "data": {
            "text/plain": [
              "<matplotlib.collections.PathCollection at 0x198ecd2ebe0>"
            ]
          },
          "execution_count": 12,
          "metadata": {},
          "output_type": "execute_result"
        },
        {
          "data": {
            "image/png": "[encoded data removed]",
            "text/plain": [
              "<Figure size 432x288 with 1 Axes>"
            ]
          },
          "metadata": {
            "needs_background": "light"
          },
          "output_type": "display_data"
        }
      ],
      "source": [
        "# внесем шум\n",
        "for i in range(len(X)):\n",
        "    X[i] += np.random.normal(scale=80)\n",
        "    Y[i] += np.random.normal(scale=50)\n",
        "\n",
        "plt.scatter(range(10000), X, s=0.1)\n",
        "plt.scatter(range(10000), Y, s=0.1)"
      ]
    },
    {
      "cell_type": "code",
      "execution_count": null,
      "metadata": {
        "id": "H-NWPaPbMGLc",
        "outputId": "7615f2b5-4cfc-481f-b338-cbe5d24e3de5"
      },
      "outputs": [
        {
          "data": {
            "text/plain": [
              "Text(0, 0.5, 'Y')"
            ]
          },
          "execution_count": 13,
          "metadata": {},
          "output_type": "execute_result"
        },
        {
          "data": {
            "image/png": "[encoded data removed]",
            "text/plain": [
              "<Figure size 432x288 with 1 Axes>"
            ]
          },
          "metadata": {
            "needs_background": "light"
          },
          "output_type": "display_data"
        }
      ],
      "source": [
        "# перетосуем массивы X и Y единым образом:\n",
        "from sklearn import utils\n",
        "\n",
        "X, Y = utils.shuffle(X, Y)\n",
        "plt.scatter(X, Y)\n",
        "plt.xlabel(\"X\")\n",
        "plt.ylabel(\"Y\")"
      ]
    },
    {
      "cell_type": "markdown",
      "metadata": {
        "id": "q_bdD8bLMGLd"
      },
      "source": [
        "На диаграмме можно заметить, что высокми значениям X соответствуют преимущественно высокие значения Y, что говорит по положительной корреяции этих случайных величин.<br>"
      ]
    },
    {
      "cell_type": "markdown",
      "metadata": {
        "id": "yNl97QAKMGLd"
      },
      "source": [
        "#### Выборочная ковариация"
      ]
    },
    {
      "cell_type": "markdown",
      "metadata": {
        "id": "hUN6hMsNMGLd"
      },
      "source": [
        "Ковариация, оцениваемая эмпирически на основе данных выборки\n",
        "$$ \\sigma_{XY} = \\mathrm{cov}(X,Y) = \\frac{1}{n} \\sum_{i=1}^n (x_i - \\overline x)(y_i - \\overline y) = \\frac{1}{n} \\sum_{i=1}^n x_i \\space y_i - \\overline x \\space \\overline y$$\n",
        "Заметим, что ковариация случайной величины между собой есть дисперсия:\n",
        "$$ \\mathrm{cov}(X,X) = \\frac{1}{n} \\sum_{i=1}^n (x_i - \\overline x)^2 = \\sigma_X^2 = \\sigma_{XX}$$\n",
        "По аналогии с исправленной дисперсией, можно рассматривать исправленную ковариацию, где вместо множителя $(1/n)$ используется $\\frac{1}{n-1}$"
      ]
    },
    {
      "cell_type": "code",
      "execution_count": null,
      "metadata": {
        "id": "KYTmlabLMGLd",
        "outputId": "3a653055-83ee-41be-cb6e-79f4bd1a47ff"
      },
      "outputs": [
        {
          "name": "stdout",
          "output_type": "stream",
          "text": [
            "cov(X, Y) = 49796.64796452851     ковариация между X и Y \n",
            "cov(Y, X) = 49796.64796452851     ковариация между Y и X \n",
            "var(X)    = 36593.47638297169     дисперсия X \n",
            "var(Y)    = 90675.6698321705     дисперсия Y \n"
          ]
        },
        {
          "data": {
            "text/plain": [
              "array([[36597.13609658, 49801.62812734],\n",
              "       [49801.62812734, 90684.738306  ]])"
            ]
          },
          "execution_count": 14,
          "metadata": {},
          "output_type": "execute_result"
        }
      ],
      "source": [
        "def cov(X, Y):\n",
        "    return sum((X - X.mean()) * (Y - Y.mean())) / len(X)\n",
        "\n",
        "print(f\"{cov(X, Y) = }     ковариация между X и Y \")\n",
        "print(f\"{cov(Y, X) = }     ковариация между Y и X \")\n",
        "print(f\"{var(X)    = }     дисперсия X \")\n",
        "print(f\"{var(Y)    = }     дисперсия Y \")\n",
        "\n",
        "np.cov(X, Y)"
      ]
    },
    {
      "cell_type": "markdown",
      "metadata": {
        "id": "XeAn2LhpMGLe"
      },
      "source": [
        "#### Коэффициент корреляции\n",
        "По абсолютному значению ковариации нельзя судить о том, насколько сильно величины взаимосвязаны, так как масштаб ковариации зависит от их дисперсий. Значение ковариации можно нормировать, поделив её на произведение среднеквадратических отклонений случайных величин. Полученная величина называется коэффициентом корреляции Пирсона (Pearson correlation coefficient (PCC))\n",
        "$$ \\mathbf r_{XY} = \\frac {\\sigma_{XY}}{\\sigma_X \\sigma_Y} $$\n",
        "Коэффициент корреляции находится в интервале от -1 до 1. Две случайные величины являются коррелированнями, если $\\sigma_{XY}$ или $\\mathbf r_{XY}$ отличны от нуля. При $\\mathbf r_{XY} > 0$ имеет место положительная корреляция, а при $\\mathbf r_{XY} < 0$ - отрицательная корреляция."
      ]
    },
    {
      "cell_type": "code",
      "execution_count": null,
      "metadata": {
        "id": "wvsLkSnfMGLe",
        "outputId": "8c582054-cada-4049-fdd7-ff636f25aa3a"
      },
      "outputs": [
        {
          "name": "stdout",
          "output_type": "stream",
          "text": [
            "r(X, Y) = 0.8644758960936819\n",
            "r(Y, X) = 0.8644758960936819\n",
            "r(X, X) = 1.0000000000000002\n",
            "r(Y, Y) = 1.0\n"
          ]
        },
        {
          "data": {
            "text/plain": [
              "array([[1.       , 0.8644759],\n",
              "       [0.8644759, 1.       ]])"
            ]
          },
          "execution_count": 15,
          "metadata": {},
          "output_type": "execute_result"
        }
      ],
      "source": [
        "def r(X, Y):\n",
        "    sigma_XY = cov(X, Y)\n",
        "    sigma_X = np.sqrt(var(X))\n",
        "    sigma_Y = np.sqrt(var(Y))\n",
        "    return sigma_XY / (sigma_X * sigma_Y)\n",
        "\n",
        "print(f\"{r(X, Y) = }\")\n",
        "print(f\"{r(Y, X) = }\")\n",
        "print(f\"{r(X, X) = }\")\n",
        "print(f\"{r(Y, Y) = }\")\n",
        "np.corrcoef(X, Y)"
      ]
    },
    {
      "cell_type": "markdown",
      "metadata": {
        "id": "LJIzqevJMGLf"
      },
      "source": [
        "### Ковариационная матрица"
      ]
    },
    {
      "cell_type": "markdown",
      "metadata": {
        "id": "QRuXTtXVMGLf"
      },
      "source": [
        "При представлении данных буквой $\\mathbf X$ обычно обозначают матрицу $ n \\times d $ строки которй представляют $n$ объектов, описываемые $d$ признаками. $\\mathbf x_r$ обозначает $r$-ую строку $\\mathbf X$, $\\mathbf x_c$ - $c$-ую колонку, а $x_{rc}$ - элемент на пересечении $r$-ой строки и $c$-ой колонки. Каждую колонку этой матрицы можно рассматривать как набор исходов случайной величины."
      ]
    },
    {
      "cell_type": "code",
      "execution_count": null,
      "metadata": {
        "id": "nATT7SmAMGLg"
      },
      "outputs": [],
      "source": [
        "X = np.array([  [2., 3.2, 5.1],\n",
        "                [4., 3.3, 5.3],\n",
        "                [2., 3.1, 5.4],\n",
        "                [4., 3.1, 5.3],\n",
        "                [6., 3.0, 5.6],\n",
        "                [8., 3.1, 5.7]    ])\n",
        "\n",
        "n, d = X.shape"
      ]
    },
    {
      "cell_type": "markdown",
      "metadata": {
        "id": "-OxdEekoMGLg"
      },
      "source": [
        "Среднее по $j$-му столбцу (эмпирическая оценка математического ожидания) определяется формулой\n",
        "$$\\mu_j = \\frac{1}{n} \\sum_{i=1}^n \\mathbf x_{ij}$$\n",
        "$\\mu^{\\mathrm T}$ обозначает вектор-строку, содержащий средние по всем столбцам. Если $\\mathbf 1$ - $n$-мерный вектор, содержащий только единицы, то $\\mathbf 1 \\mu^{\\mathrm T}$ - матрица размерности $n \\times d$, строками которой являются векторы $\\mu^{\\mathrm T}$."
      ]
    },
    {
      "cell_type": "code",
      "execution_count": null,
      "metadata": {
        "id": "YYkKSVzaMGLg",
        "outputId": "fe073ce3-787a-46cf-ee04-e49ca5d6005b"
      },
      "outputs": [
        {
          "name": "stdout",
          "output_type": "stream",
          "text": [
            "mu_T = array([[4.33333333, 3.13333333, 5.4       ]])\n",
            "shapes (6, 1) (1, 3)\n",
            "[[4.33333333 3.13333333 5.4       ]\n",
            " [4.33333333 3.13333333 5.4       ]\n",
            " [4.33333333 3.13333333 5.4       ]\n",
            " [4.33333333 3.13333333 5.4       ]\n",
            " [4.33333333 3.13333333 5.4       ]\n",
            " [4.33333333 3.13333333 5.4       ]]\n"
          ]
        }
      ],
      "source": [
        "mu_T = np.average(X, axis=0).reshape(1, 3)  # вектор-строка\n",
        "print(f\"{mu_T = }\")\n",
        "ones = np.ones(shape=(n,1))                 # вектор-столбец\n",
        "print('shapes', ones.shape, mu_T.shape)\n",
        "averages = np.matmul(ones, mu_T)\n",
        "print(averages)"
      ]
    },
    {
      "cell_type": "markdown",
      "metadata": {
        "id": "567aDUPXMGLh"
      },
      "source": [
        "Центрированная матрица (zero-centred) $ \\mathbf X' = \\mathbf X - \\mathbf 1 \\mu^{\\mathrm T} $"
      ]
    },
    {
      "cell_type": "code",
      "execution_count": null,
      "metadata": {
        "id": "b5_A7CWXMGLh",
        "outputId": "e1fbd089-4cad-4ae0-d56b-7e76e85020b1"
      },
      "outputs": [
        {
          "name": "stdout",
          "output_type": "stream",
          "text": [
            "[[-2.33333333e+00  6.66666667e-02 -3.00000000e-01]\n",
            " [-3.33333333e-01  1.66666667e-01 -1.00000000e-01]\n",
            " [-2.33333333e+00 -3.33333333e-02  8.88178420e-16]\n",
            " [-3.33333333e-01 -3.33333333e-02 -1.00000000e-01]\n",
            " [ 1.66666667e+00 -1.33333333e-01  2.00000000e-01]\n",
            " [ 3.66666667e+00 -3.33333333e-02  3.00000000e-01]]\n"
          ]
        }
      ],
      "source": [
        "X_centered = X - averages\n",
        "print(X_centered)"
      ]
    },
    {
      "cell_type": "markdown",
      "metadata": {
        "id": "YPRXRGCVMGLh"
      },
      "source": [
        "Матрицей разброса (scatter matrix) называется матрица $\\mathbf S$ размерности $d \\times d$\n",
        "$$ \\mathbf S = \\mathbf X'^{\\mathrm T} \\mathbf X'= \\mathbf X^{\\mathrm T} \\mathbf X - n \\mathbf M $$\n",
        "где $ \\mathbf M = \\mu \\mu^{\\mathrm T} $ - матрица $d \\times d$ элементами которой являютсяпроизведения средних по столбцам $ m_{ij} = \\mu_j \\mu_c $."
      ]
    },
    {
      "cell_type": "code",
      "execution_count": null,
      "metadata": {
        "id": "8WR6z_40MGLj",
        "outputId": "8c8d6c28-c025-46a8-8d16-293c27d96f5b"
      },
      "outputs": [
        {
          "name": "stdout",
          "output_type": "stream",
          "text": [
            "[[18.77777778 13.57777778 23.4       ]\n",
            " [13.57777778  9.81777778 16.92      ]\n",
            " [23.4        16.92       29.16      ]]\n"
          ]
        }
      ],
      "source": [
        "mu = mu_T.transpose()\n",
        "M = np.matmul(mu, mu_T)\n",
        "print(M)"
      ]
    },
    {
      "cell_type": "code",
      "execution_count": null,
      "metadata": {
        "id": "cRcMYs-TMGLj",
        "outputId": "e42b3c5c-c8e9-411b-b3f6-810466b84cb2"
      },
      "outputs": [
        {
          "name": "stdout",
          "output_type": "stream",
          "text": [
            "[[27.33333333 -0.46666667  2.2       ]\n",
            " [-0.46666667  0.05333333 -0.07      ]\n",
            " [ 2.2        -0.07        0.24      ]]\n",
            "[[27.33333333 -0.46666667  2.2       ]\n",
            " [-0.46666667  0.05333333 -0.07      ]\n",
            " [ 2.2        -0.07        0.24      ]]\n"
          ]
        }
      ],
      "source": [
        "S = np.matmul(X_centered.transpose(), X_centered)\n",
        "print(S)\n",
        "S_alt = np.matmul(X.transpose(), X) - n * M\n",
        "print(S_alt)"
      ]
    },
    {
      "cell_type": "code",
      "execution_count": null,
      "metadata": {
        "id": "fmjFus0UMGLj",
        "outputId": "cbd6a650-b392-4f35-bd3a-a1ecd2cbabc2"
      },
      "outputs": [
        {
          "name": "stdout",
          "output_type": "stream",
          "text": [
            "[[False False False]\n",
            " [False False False]\n",
            " [False False False]]\n",
            "False\n"
          ]
        }
      ],
      "source": [
        "# заметим, что несмотря на визуальное равенство матриц\n",
        "# S и S_alt сревнение матриц дает False:\n",
        "print(S == S_alt)\n",
        "print(np.array_equal(S, S_alt))"
      ]
    },
    {
      "cell_type": "code",
      "execution_count": null,
      "metadata": {
        "id": "AK1xjagsMGLk",
        "outputId": "7562a4c0-4cc3-4d21-b2b6-f4b93d828aee"
      },
      "outputs": [
        {
          "name": "stdout",
          "output_type": "stream",
          "text": [
            "[[ True  True  True]\n",
            " [ True  True  True]\n",
            " [ True  True  True]]\n",
            "True\n"
          ]
        }
      ],
      "source": [
        "# это происходит в силу ошибок округления элементов типа float\n",
        "# адекватное сравнение можно произвести функциями isclose и allclose:\n",
        "print(np.isclose(S, S_alt))\n",
        "print(np.allclose(S, S_alt))\n",
        "# функцию isclose можно использовать для сравнения чисел float"
      ]
    },
    {
      "cell_type": "markdown",
      "metadata": {
        "id": "KDYYwDP8MGLk"
      },
      "source": [
        "Ковариационной матрицей матрицы $\\mathbf X$ называется матрица $ \\mathbf \\Sigma = \\frac{1}{n} \\mathbf S $, элементами которой являются попарные ковариации между колонками матрицы $\\mathbf X $:\n",
        "$$ \\sigma_{jc} = \\mathrm{cov}(\\mathbf x_j, \\mathbf x_c) = \\frac{1}{n} \\sum_{i=1}^n(\\mathbf X_{ij} - \\mu_j)(\\mathbf X_{ic} - \\mu_c) = \\frac{1}{n} \\left( \\sum_{i=1}^n \\mathbf X_{ij} \\mathbf X{ic} - \\mu_i \\mu_c \\right) $$\n",
        "$\\sigma_{jc}$ - ковариация между колонками $j$ и $c$.<br>\n",
        "$\\sigma_{jj}$ - дисперсия $j$-й колонки:\n",
        "$$ \\sigma_{jj} = \\sigma_{j}^2 = \\frac{1}{n} \\sum_{i=1}^n(\\mathbf X_{ij} - \\mu_j)^2 = \\frac{1}{n} \\left( \\sum_{i=1}^n \\mathbf X_{ij}^2 - \\mu_i \\right) $$"
      ]
    },
    {
      "cell_type": "code",
      "execution_count": null,
      "metadata": {
        "id": "EyPY_djvMGLl",
        "outputId": "5ccd1f57-9fd2-4b95-b222-dd07427de709"
      },
      "outputs": [
        {
          "name": "stdout",
          "output_type": "stream",
          "text": [
            "-0.011666666666666672\n"
          ]
        }
      ],
      "source": [
        "cov_12 = (1/n) * np.sum((X[:, 1] - mu[1]) * (X[:, 2] - mu[2]))\n",
        "print(cov_12)       # ковариация между колонками 1 и 2"
      ]
    },
    {
      "cell_type": "code",
      "execution_count": null,
      "metadata": {
        "id": "1BEhbykAMGLl",
        "outputId": "e54cfbc8-06b6-41c7-cc3b-2fa242e5a5c1"
      },
      "outputs": [
        {
          "data": {
            "text/plain": [
              "array([[ 4.55555556, -0.07777778,  0.36666667],\n",
              "       [-0.07777778,  0.00888889, -0.01166667],\n",
              "       [ 0.36666667, -0.01166667,  0.04      ]])"
            ]
          },
          "execution_count": 25,
          "metadata": {},
          "output_type": "execute_result"
        }
      ],
      "source": [
        "cov_matrix = np.empty(shape=(d, d))\n",
        "for i in range(d):\n",
        "    for j in range(d):\n",
        "        cov_matrix[i, j] = cov(X[:, i], X[:, j])\n",
        "\n",
        "cov_matrix"
      ]
    },
    {
      "cell_type": "markdown",
      "metadata": {
        "id": "RoHLGrkGMGLl"
      },
      "source": [
        "в отличие от нашей функции `cov` функция `cov` из numpy вычисляет исправленные ковариации, где вместо множителя $(1/n)$ используется $\\frac{1}{n-1}$"
      ]
    },
    {
      "cell_type": "code",
      "execution_count": null,
      "metadata": {
        "id": "MgXY0PvuMGLl",
        "outputId": "7151c1f7-7760-468a-9fda-e11aeee2bfae"
      },
      "outputs": [
        {
          "data": {
            "text/plain": [
              "array([[ 5.46666667, -0.09333333,  0.44      ],\n",
              "       [-0.09333333,  0.01066667, -0.014     ],\n",
              "       [ 0.44      , -0.014     ,  0.048     ]])"
            ]
          },
          "execution_count": 26,
          "metadata": {},
          "output_type": "execute_result"
        }
      ],
      "source": [
        "np.cov(X.transpose())"
      ]
    },
    {
      "cell_type": "markdown",
      "metadata": {
        "id": "CLBuwZRsMGLm"
      },
      "source": [
        "Ковариационная матрица является симметричной, и на пересечении $i$, $j$ этой матрицы располагаются ковариация между колонками $i$ и $j$ матрицы $\\mathbf X$."
      ]
    }
  ],
  "metadata": {
    "colab": {
      "provenance": []
    },
    "kernelspec": {
      "display_name": "Python 3 (ipykernel)",
      "language": "python",
      "name": "python3"
    },
    "language_info": {
      "codemirror_mode": {
        "name": "ipython",
        "version": 3
      },
      "file_extension": ".py",
      "mimetype": "text/x-python",
      "name": "python",
      "nbconvert_exporter": "python",
      "pygments_lexer": "ipython3",
      "version": "3.10.10"
    },
    "vscode": {
      "interpreter": {
        "hash": "79e7e232837c7265a9e9b5dfac4264a5e3a343b031b97a295fa4d50f1a7fdf05"
      }
    }
  },
  "nbformat": 4,
  "nbformat_minor": 0
}
