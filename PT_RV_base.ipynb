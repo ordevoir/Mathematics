{
  "cells": [
    {
      "cell_type": "markdown",
      "metadata": {
        "id": "NPbLO_cBMGLA"
      },
      "source": [
        "# Случайные величины\n",
        "**Случайная величина** (*random variable*) представляет собой переменную, которая в результате испытаний принимает одно из возможных значений, наперед не известное и зависящее от случайных причин, которые заранее не могут быть учтены.\n",
        "\n",
        "**Дискретная** (*discrete*) случайная величина принимает изолированные значения, в то время как **непрерывная** (*continuous*) случайная величина принимает значения из некоторого непрерывного конечного или бесконечного промежутка.\n",
        "\n",
        "**Законом распределения дискретной случайной величины** называется соответствие между возможными значениями и из вероятностями."
      ]
    },
    {
      "cell_type": "markdown",
      "metadata": {
        "id": "qQWhQs0LMGLS"
      },
      "source": [
        "## Одномерная случайная величина\n",
        "\n",
        "Сформируем дискретную случайную величину, определив множество возможных значений и вероятности их выпадения в массивах `X` и `p`. Визуализируем **распределение вероятностей** (*Probability Distribution*):"
      ]
    },
    {
      "cell_type": "code",
      "execution_count": 120,
      "metadata": {
        "id": "6zA183_lMGLT"
      },
      "outputs": [
        {
          "data": {
            "text/plain": [
              "'len(X) = 9, len(p) = 9, sum(p) = 1.0'"
            ]
          },
          "execution_count": 120,
          "metadata": {},
          "output_type": "execute_result"
        },
        {
          "data": {
            "image/png": "[encoded data removed]",
            "text/plain": [
              "<Figure size 640x480 with 1 Axes>"
            ]
          },
          "metadata": {},
          "output_type": "display_data"
        }
      ],
      "source": [
        "import numpy as np\n",
        "import matplotlib.pyplot as plt\n",
        "\n",
        "X = np.array([-3, -2, -1, 0, 1, 2, 3, 4, 5])\n",
        "p = np.array([0.05, 0.06, 0.13, 0.24, 0.06, 0.15, 0.14, 0.08, 0.09])\n",
        "\n",
        "plt.bar(X, p)\n",
        "(f\"{len(X) = }, {len(p) = }, {sum(p) = }\")"
      ]
    },
    {
      "cell_type": "markdown",
      "metadata": {},
      "source": [
        "### Функция вероятности **PMF**\n",
        "Функцию, которая возвращает вероятность того, что дискретная случайная величина $X$ примет определенное значение $n$ называется **функцией вероятности** (*Probability Mass Function* - PMF):"
      ]
    },
    {
      "cell_type": "code",
      "execution_count": 121,
      "metadata": {},
      "outputs": [
        {
          "data": {
            "text/plain": [
              "0.13"
            ]
          },
          "execution_count": 121,
          "metadata": {},
          "output_type": "execute_result"
        }
      ],
      "source": [
        "def pmf(n, X, p):\n",
        "    index = None\n",
        "    for i in range(len(X)):\n",
        "        if X[i] == n:\n",
        "            index = i\n",
        "            break \n",
        "    return 0 if index is None else p[index]\n",
        "\n",
        "pmf(-1, X, p)"
      ]
    },
    {
      "cell_type": "markdown",
      "metadata": {
        "id": "3oDmTtNxMGLU"
      },
      "source": [
        "### Функция распределения **CDF**\n",
        "\n",
        "**Функцией распределения** (*Cumulative Distribution Function* - CDF) случайной величины называется функция $F(x)$, определяющая вероятность того, что случайная величина $X$ в результате испытаний примент значение, меньшее $x$. Функция распределения, очевидно, является монотонной неубывающей функцией.\n",
        "\n",
        "Определим функцию `cdf()`, которая по заданному `x` возвращает значение функции распределения данной случайной величины."
      ]
    },
    {
      "cell_type": "code",
      "execution_count": 122,
      "metadata": {
        "colab": {
          "base_uri": "https://localhost:8080/"
        },
        "id": "ALN0UR8DM5nS",
        "outputId": "c93a511a-c026-49f0-c845-c444cd34d48d"
      },
      "outputs": [
        {
          "data": {
            "text/plain": [
              "0.91"
            ]
          },
          "execution_count": 122,
          "metadata": {},
          "output_type": "execute_result"
        }
      ],
      "source": [
        "def cdf(x, X, p):\n",
        "    probability = 0\n",
        "    for i in range(len(X)):\n",
        "        if X[i] < x:\n",
        "            probability += p[i]\n",
        "    return probability\n",
        "\n",
        "cdf(5, X, p)"
      ]
    },
    {
      "cell_type": "code",
      "execution_count": 123,
      "metadata": {
        "colab": {
          "base_uri": "https://localhost:8080/",
          "height": 538
        },
        "id": "td6o7Iw5STsq",
        "outputId": "4d916b21-fcce-40fb-dac6-40ee772215ee"
      },
      "outputs": [
        {
          "name": "stdout",
          "output_type": "stream",
          "text": [
            "values = array([-5, -4, -3, -2, -1,  0,  1,  2,  3,  4,  5,  6,  7,  8])\n",
            "cdf_sequence = array([0.  , 0.  , 0.  , 0.05, 0.11, 0.24, 0.48, 0.54, 0.69, 0.83, 0.91,\n",
            "       1.  , 1.  , 1.  ])\n"
          ]
        },
        {
          "data": {
            "image/png": "[encoded data removed]",
            "text/plain": [
              "<Figure size 640x480 with 1 Axes>"
            ]
          },
          "metadata": {},
          "output_type": "display_data"
        }
      ],
      "source": [
        "values = np.arange(-5, 9)\n",
        "cdf_sequence = np.zeros(14)\n",
        "\n",
        "for i in range(len(values)):\n",
        "    c = cdf(values[i], X, p)\n",
        "    cdf_sequence[i] = c\n",
        "\n",
        "plt.plot(values, cdf_sequence)\n",
        "plt.xlabel(\"X\")\n",
        "plt.ylabel(\"CDF\")\n",
        "print(f\"{values = }\\n{cdf_sequence = }\")"
      ]
    },
    {
      "cell_type": "markdown",
      "metadata": {},
      "source": [
        "Функция распределения $F(x)$ непрерывной случайной величины является непрерывной, кусочно-дифференцируемой функцией. \n",
        "\n",
        "> Вероятность $p$ того, что случайная величина примет значение, лежащее на отрезке $[a, b]$, равна приращению функции распределения на этом интервале:\n",
        ">$$\n",
        "p(a \\leq X \\leq b) = F(a) - F(b)\n",
        "$$"
      ]
    },
    {
      "cell_type": "markdown",
      "metadata": {
        "id": "Dm0F5xnnWJ1u"
      },
      "source": [
        "### Плотность вероятности **PDF**\n",
        "\n",
        "Когда мы имеем дело с непрерывной случайной величиной, определенной на некотором открытом или закрытом промежуте, то вероятность выпадения конкретного значения является нулевой. Поэтому вместо распределения вероятностей для задания распределения случайной величины используется **плотность вероятности** (*Probability Density Function* - PDF), которая определяет вероятность выпадения значений, лежащих в некотором диапозоне.\n",
        "\n",
        "> Если известна функция распределения $F(x)$, плотность вероятности может быть получена как производная от функции распределения.\n",
        "\n",
        "Пусть функция распределения задана сигмоидой c $\\alpha = 0.1$. Визуализируем фукнцию распределения на отрезке $[-100, 100]$:"
      ]
    },
    {
      "cell_type": "code",
      "execution_count": 124,
      "metadata": {},
      "outputs": [
        {
          "data": {
            "text/plain": [
              "Text(0, 0.5, 'CDF')"
            ]
          },
          "execution_count": 124,
          "metadata": {},
          "output_type": "execute_result"
        },
        {
          "data": {
            "image/png": "[encoded data removed]",
            "text/plain": [
              "<Figure size 640x480 with 1 Axes>"
            ]
          },
          "metadata": {},
          "output_type": "display_data"
        }
      ],
      "source": [
        "def sigmoid(x, alpha=0.1):\n",
        "    return 1 / (1 + np.exp(-alpha * x))\n",
        "\n",
        "segment = np.linspace(-100, 100, 1000)\n",
        "cdf_sequence = np.zeros_like(segment)\n",
        "\n",
        "for i in range(len(segment)):\n",
        "    cdf_sequence[i] = sigmoid(segment[i])\n",
        "\n",
        "plt.plot(segment, cdf_sequence)\n",
        "plt.xlabel('X')\n",
        "plt.ylabel('CDF')"
      ]
    },
    {
      "cell_type": "markdown",
      "metadata": {},
      "source": [
        "Напишем функцию `deriv_sigmoid`, которая возвращает значение производной сигмоиды в точе `x`. Тогда мы сможем получить значения плотности вероятности на рассматриваемом отрезке `segment`:"
      ]
    },
    {
      "cell_type": "code",
      "execution_count": 125,
      "metadata": {},
      "outputs": [
        {
          "data": {
            "text/plain": [
              "[<matplotlib.lines.Line2D at 0x1c2a305c760>]"
            ]
          },
          "execution_count": 125,
          "metadata": {},
          "output_type": "execute_result"
        },
        {
          "data": {
            "image/png": "[encoded data removed]",
            "text/plain": [
              "<Figure size 640x480 with 1 Axes>"
            ]
          },
          "metadata": {},
          "output_type": "display_data"
        }
      ],
      "source": [
        "def deriv_sigmoid(x, alpha=0.1):\n",
        "    return sigmoid(x, alpha) * (1 - sigmoid(x, alpha))\n",
        "\n",
        "pdf = np.zeros_like(segment)\n",
        "for i in range(len(segment)):\n",
        "    pdf[i] = deriv_sigmoid(segment[i])\n",
        "\n",
        "plt.plot(segment, pdf)"
      ]
    },
    {
      "cell_type": "markdown",
      "metadata": {},
      "source": [
        ">Для того, чтобы по плотности вероятности $f(x)$ вычислить вероятность того, что случайная величина примет значение, лежащее на отрезке $[a, b]$, нужно проинтегрировать плотность вероятности в прделах от $a$ до $b$:\n",
        ">$$\n",
        "p(a \\leq X \\leq b) = \\int_a^b f(x) dx\n",
        "$$\n",
        "Так как функция распределения $F(x)$ является первообразной плотности вероятности, то\n",
        "$$\n",
        "\\int_a^b f(x) dx = F(b) - F(a)\n",
        "$$\n",
        "Что соответствует описанной выше формуле для функции вероятности.\n",
        "\n",
        "В силу $F(-\\infty)=0$ и $F(\\infty)=1$ интеграл по всей числовой оси:\n",
        "$$\n",
        "\\int_{-\\infty}^{\\infty} f(x) dx = 1\n",
        "$$\n",
        "что в общем логично: в любом испытании какое нибудь число выпадет выпадет со $100\\%$ вероятностью."
      ]
    },
    {
      "cell_type": "markdown",
      "metadata": {
        "id": "4IJlieTqMGLV"
      },
      "source": [
        "### Математическое ожидание\n",
        "\n",
        "**Математическое ожидание** (*expected value*) – это среднее значение случайной величины, которое показывает, какой результат в среднем можно ожидать от повторения эксперимента много раз.\n",
        "\n",
        "$$ \\mathrm E[X]=\\sum_{i=1}^n x_1p_1$$\n",
        "для непрерывного распределения\n",
        "$$ \\mathrm E[X] = \\int\\limits_{-\\infty}^\\infty xf(x)$$\n",
        "где $f(x)$ - функция плотности распределения"
      ]
    },
    {
      "cell_type": "code",
      "execution_count": 126,
      "metadata": {
        "id": "BSdQ_KX6MGLV",
        "outputId": "1ba5bb40-fe97-4e9a-9316-bc409b8792cf"
      },
      "outputs": [
        {
          "data": {
            "text/plain": [
              "1.15"
            ]
          },
          "execution_count": 126,
          "metadata": {},
          "output_type": "execute_result"
        }
      ],
      "source": [
        "def EV(X, p):\n",
        "    \"\"\"Математическое ожидание\"\"\"\n",
        "    return sum(X*p)\n",
        "\n",
        "EV(X, p)"
      ]
    },
    {
      "cell_type": "markdown",
      "metadata": {
        "id": "6ZGePqBwMGLV"
      },
      "source": [
        ">Если распределение вероятностей случайной величины неизвестно, математическое ожидание можно получить из результатов большого количества испытаний как среднее значение всех исходов (*sample mean*):\n",
        ">$$ \\overline x = \\frac{1}{n} \\sum_{i=1}^n x_i $$"
      ]
    },
    {
      "cell_type": "code",
      "execution_count": 127,
      "metadata": {
        "id": "_GwzLrhiMGLW",
        "outputId": "395d2ad1-8292-4a35-dc48-8711d63cc4f3"
      },
      "outputs": [
        {
          "name": "stdout",
          "output_type": "stream",
          "text": [
            "[ 0  0  2  3  2  3  0  3  1  0  2 -1  0 -1  2  0  0  0  0  3]\n"
          ]
        },
        {
          "data": {
            "text/plain": [
              "1.132868671313287"
            ]
          },
          "execution_count": 127,
          "metadata": {},
          "output_type": "execute_result"
        }
      ],
      "source": [
        "# сгенерируем множество исходов заданной случайной величины\n",
        "sample = np.random.choice(X, size=100001, p=p)\n",
        "print(sample[:20])\n",
        "sample.mean()"
      ]
    },
    {
      "cell_type": "markdown",
      "metadata": {
        "id": "Ct98z_jQMGLW"
      },
      "source": [
        "### Отклонение случайной величины\n",
        "**Отклонение** (*deviation*) случайной величины представляет собой рзность случайной величины и его математического ожидания:\n",
        "$$ X - \\mathrm E[X] $$\n",
        "Вероятность отклонения $ x_i - \\mathrm E[X]$ равно вероятности $p_i$ значения $x_i$.\n",
        "\n",
        "Математическое ожидание отклонения равно нулю, так как отклонения в положительную сторону компенсируются отклонениями в отрицательную сторону (их значения отрицательны)."
      ]
    },
    {
      "cell_type": "code",
      "execution_count": 128,
      "metadata": {
        "id": "NVm-1gN7MGLX",
        "outputId": "a3aefead-07c9-422f-fae9-7766b4856520"
      },
      "outputs": [
        {
          "name": "stdout",
          "output_type": "stream",
          "text": [
            "[-4.15 -3.15 -2.15 -1.15 -0.15  0.85  1.85  2.85  3.85]\n"
          ]
        },
        {
          "data": {
            "text/plain": [
              "1.6653345369377348e-16"
            ]
          },
          "execution_count": 128,
          "metadata": {},
          "output_type": "execute_result"
        }
      ],
      "source": [
        "deviations = X-EV(X, p)\n",
        "print(deviations)\n",
        "EV(deviations, p)   # Математическое ожидание отклонения равно нулю"
      ]
    },
    {
      "cell_type": "markdown",
      "metadata": {
        "id": "8kzBHQGlMGLX"
      },
      "source": [
        "### Дисперсия\n",
        "**Дисперсией** (*Variance*) дискретной случайной величины называется математическое ожидание *квадрата* отклонения случайной величины от ее математического ожидания:\n",
        "$$ \\mathrm{Var}(X) = \\mathrm E[(X - \\mathrm E[X])^2] = \\sum {(x_i - \\mathrm E[X])^2p_i} $$"
      ]
    },
    {
      "cell_type": "code",
      "execution_count": 129,
      "metadata": {
        "id": "cECCoCAfMGLY",
        "outputId": "647786ab-9f93-49f9-9535-f99ee9c7e88e"
      },
      "outputs": [
        {
          "data": {
            "text/plain": [
              "4.947500000000001"
            ]
          },
          "execution_count": 129,
          "metadata": {},
          "output_type": "execute_result"
        }
      ],
      "source": [
        "def var(X, p):\n",
        "    ev = EV(X, p)\n",
        "    variance = 0\n",
        "    for i in range(len(X)):\n",
        "        variance += ((X[i] - ev) ** 2) * p[i]\n",
        "    return variance\n",
        "\n",
        "var(X, p)"
      ]
    },
    {
      "cell_type": "markdown",
      "metadata": {
        "id": "rQ-DSP00MGLY"
      },
      "source": [
        "### Выборочная дисперсия\n",
        "\n",
        "**Выборочная дисперсия** (*Sample Variance*) - дисперсия, оцениваемая эмпирически на основе данных выборки\n",
        "$$ \\tilde S_X^2 = \\frac{1}{n} \\sum_{i=1}^n (x_i - \\overline x)^2 $$\n",
        "\n",
        "**Несмещённая** (*unbiased*) выборочная дисперсия:\n",
        "$$ S_X^2 = \\frac{1}{n-1} \\sum_{i=1}^n (x_i - \\overline x)^2 $$\n",
        "Деление на $n-1$ вместо $n$ дает чуть более высокую оценку $ S_X^2 = \\frac{n}{n-1} \\tilde S_X^2$. При больших $n$ несмещенная дисперсия дает лучшую оценку, чем смещенная."
      ]
    },
    {
      "cell_type": "code",
      "execution_count": 130,
      "metadata": {
        "id": "t8cEcAUfMGLY",
        "outputId": "f232c036-1573-405f-bc2c-a87a22dd2c67"
      },
      "outputs": [
        {
          "data": {
            "text/plain": [
              "4.946846271180137"
            ]
          },
          "execution_count": 130,
          "metadata": {},
          "output_type": "execute_result"
        }
      ],
      "source": [
        "def var(sample):\n",
        "    ev = sample.mean()\n",
        "    variance = 0\n",
        "    for s in sample:\n",
        "        variance += (s - ev) ** 2\n",
        "\n",
        "    return variance / len(sample)\n",
        "\n",
        "var(sample)"
      ]
    },
    {
      "cell_type": "markdown",
      "metadata": {},
      "source": [
        "Дисперсию также можно вычислить при помощи функции `var()` из библиотеки NumPy, либо при помощи одноименного метода массива (объекта класса `ndarray`)."
      ]
    },
    {
      "cell_type": "code",
      "execution_count": 131,
      "metadata": {},
      "outputs": [
        {
          "data": {
            "text/plain": [
              "4.946846271179891"
            ]
          },
          "execution_count": 131,
          "metadata": {},
          "output_type": "execute_result"
        }
      ],
      "source": [
        "np.var(sample)     # два вариана вычисления\n",
        "sample.var()       # дисперсии с numpy"
      ]
    },
    {
      "cell_type": "markdown",
      "metadata": {
        "id": "WHGtY95_MGLZ"
      },
      "source": [
        "### Стандартное отклонение\n",
        "**Стандартное отклонение** (*standard deviation*) или **среднеквадратическое отклонение**  – это мера того, насколько значения случайной величины разбросаны относительно её среднего значения. Стандартное отклонение вычисляется как квадратный корень от дисперсии:\n",
        "$$\n",
        "\\sigma_X = \\sqrt{\\mathrm{Var}(X)}\n",
        "$$\n",
        "\n",
        "Вычисление при помощий функций и методов NumPy:"
      ]
    },
    {
      "cell_type": "code",
      "execution_count": 132,
      "metadata": {
        "id": "lRgxhKIlMGLZ",
        "outputId": "5fe276d9-31dc-4456-9d31-735725a149b9"
      },
      "outputs": [
        {
          "data": {
            "text/plain": [
              "2.2241506853583215"
            ]
          },
          "execution_count": 132,
          "metadata": {},
          "output_type": "execute_result"
        }
      ],
      "source": [
        "np.std(sample)     # два вариана вычисления\n",
        "sample.std()       # среднеквадратического отклонения c numpy"
      ]
    },
    {
      "cell_type": "markdown",
      "metadata": {
        "id": "t4GlaGyHMGLa"
      },
      "source": [
        "### Мода, Медиана\n",
        "**Модой** (*Mode*) дискретной случайной величины называется ее наиболее вероятное значение. При экспериментальном вычислении, мода соответствует наиболее часто выпадаемой величине.\n",
        "\n",
        "**Медианой** (*Median*) случайной величины называется такое значение $m$, для которого вероятность получить большее значение равно вероятности получить меньшее значение ($p=0.5$). Если случайная величина является непрерывной, то медиана может быть представлена уравнением:\n",
        "$$\n",
        "p(X \\leq m) = F(m) = \\int_{- \\infty}^m f(x)dx = \\frac{1}{2}\n",
        "$$\n",
        "где $f(x)$ – плотность вероятности случайной величнины.\n",
        "\n",
        "Как было показано ниже, интеграл по всей области $(-\\infty, \\infty)$ всегда равен $1$. Значит интеграл \n",
        "\n",
        "$$ \\int_{m}^{\\infty} f(x)dx $$\n",
        "Также должен равняться $1/2$. Медиана таким обарзом расположена так, что разбивает область под функцией плотности вероятности на две области с равными площадями.\n",
        "\n",
        ">Для экспериментальный вычисления медианы необходимо в первую очередь упорядочить выборку по возрастанию. Если число элементов выборки нечетное, то нужно выбрать элемент, расположенный ровно по середине упорядоченной выборки. Если же число элементов четное, то следует выбрать два центральных элемента и взять от них среднее."
      ]
    },
    {
      "cell_type": "code",
      "execution_count": 133,
      "metadata": {},
      "outputs": [
        {
          "data": {
            "text/plain": [
              "1"
            ]
          },
          "execution_count": 133,
          "metadata": {},
          "output_type": "execute_result"
        }
      ],
      "source": [
        "ordered = np.sort(sample, kind='mergesort')\n",
        "\n",
        "n = len(ordered)\n",
        "\n",
        "if n % 2 == 0:\n",
        "    median = ordered[int(n/2)]\n",
        "else:\n",
        "    median = ordered[int(np.ceil(n/2))]\n",
        "\n",
        "median"
      ]
    }
  ],
  "metadata": {
    "colab": {
      "provenance": []
    },
    "kernelspec": {
      "display_name": "Python 3 (ipykernel)",
      "language": "python",
      "name": "python3"
    },
    "language_info": {
      "codemirror_mode": {
        "name": "ipython",
        "version": 3
      },
      "file_extension": ".py",
      "mimetype": "text/x-python",
      "name": "python",
      "nbconvert_exporter": "python",
      "pygments_lexer": "ipython3",
      "version": "3.10.10"
    },
    "vscode": {
      "interpreter": {
        "hash": "79e7e232837c7265a9e9b5dfac4264a5e3a343b031b97a295fa4d50f1a7fdf05"
      }
    }
  },
  "nbformat": 4,
  "nbformat_minor": 0
}
