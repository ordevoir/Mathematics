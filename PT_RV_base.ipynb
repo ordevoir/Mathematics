{
  "cells": [
    {
      "cell_type": "markdown",
      "metadata": {
        "id": "NPbLO_cBMGLA"
      },
      "source": [
        "# Случайные величины\n",
        "**Случайная величина** (*random variable*) представляет собой переменную, которая в результате испытаний принимает одно из возможных значений, наперед не известное и зависящее от случайных причин, которые заранее не могут быть учтены.\n",
        "\n",
        "**Дискретная** (*discrete*) случайная величина принимает изолированные значения, в то время как **непрерывная** (*continuous*) случайная величина принимает значения из некоторого непрерывного конечного или бесконечного промежутка.\n",
        "\n",
        "**Законом распределения дискретной случайной величины** называется соответствие между возможными значениями и из вероятностями."
      ]
    },
    {
      "cell_type": "code",
      "execution_count": 2,
      "metadata": {
        "id": "sOYeS_tLMGLR"
      },
      "outputs": [],
      "source": [
        "def normalize(array):\n",
        "    \"\"\" нормализует значения массива, чтобы сумма элементов равнялась 1 \"\"\"\n",
        "    return array / array.sum(axis=0)"
      ]
    },
    {
      "cell_type": "markdown",
      "metadata": {
        "id": "qQWhQs0LMGLS"
      },
      "source": [
        "## Одномерная случайная величина\n",
        "\n",
        "Сформируем дискретную случайную величину, определив множество возможных значений и вероятности их выпадения в массивах `X` и `p`. Визуализируем **распределение вероятностей** (*Probability Distribution*):"
      ]
    },
    {
      "cell_type": "code",
      "execution_count": 1,
      "metadata": {
        "id": "6zA183_lMGLT"
      },
      "outputs": [
        {
          "data": {
            "text/plain": [
              "'len(X) = 9, len(p) = 9, sum(p) = 1.0'"
            ]
          },
          "execution_count": 1,
          "metadata": {},
          "output_type": "execute_result"
        },
        {
          "data": {
            "image/png": "[encoded data removed]",
            "text/plain": [
              "<Figure size 640x480 with 1 Axes>"
            ]
          },
          "metadata": {},
          "output_type": "display_data"
        }
      ],
      "source": [
        "import numpy as np\n",
        "import matplotlib.pyplot as plt\n",
        "\n",
        "X = np.array([-3, -2, -1, 0, 1, 2, 3, 4, 5])\n",
        "p = np.array([0.05, 0.08, 0.13, 0.24, 0.06, 0.15, 0.12, 0.08, 0.09])\n",
        "\n",
        "plt.bar(X, p)\n",
        "(f\"{len(X) = }, {len(p) = }, {sum(p) = }\")"
      ]
    },
    {
      "cell_type": "markdown",
      "metadata": {},
      "source": [
        "### Функция вероятности **PMF**\n",
        "Функцию, которая возвращает вероятность того, что дискретная случайная величина $X$ примет определенное значение $n$ называется **функцией вероятности** (*Probability Mass Function* - PMF):"
      ]
    },
    {
      "cell_type": "code",
      "execution_count": 38,
      "metadata": {},
      "outputs": [
        {
          "data": {
            "text/plain": [
              "0.13"
            ]
          },
          "execution_count": 38,
          "metadata": {},
          "output_type": "execute_result"
        }
      ],
      "source": [
        "def pmf(n, X, p):\n",
        "    index = None\n",
        "    for i in range(len(X)):\n",
        "        if X[i] == n:\n",
        "            index = i\n",
        "            break \n",
        "    return 0 if index is None else p[index]\n",
        "\n",
        "pmf(-1, X, p)"
      ]
    },
    {
      "cell_type": "markdown",
      "metadata": {
        "id": "3oDmTtNxMGLU"
      },
      "source": [
        "### Функция распределения\n",
        "\n",
        "**Функцией распределения** (*Cumulative Distribution Function* - CDF) случайной величины называется функция $F(x)$, определяющая вероятность того, что случайная величина $X$ в результате испытаний примент значение, меньшее $x$. Функция распределения, очевидно, является монотонной неубывающей функцией.\n",
        "\n",
        "Определим функцию `cdf()`, которая по заданному `x` возвращает значение функции распределения данной случайной величины."
      ]
    },
    {
      "cell_type": "code",
      "execution_count": 7,
      "metadata": {
        "colab": {
          "base_uri": "https://localhost:8080/"
        },
        "id": "ALN0UR8DM5nS",
        "outputId": "c93a511a-c026-49f0-c845-c444cd34d48d"
      },
      "outputs": [
        {
          "data": {
            "text/plain": [
              "0.56"
            ]
          },
          "execution_count": 7,
          "metadata": {},
          "output_type": "execute_result"
        }
      ],
      "source": [
        "def cdf(x, X, p):\n",
        "    probability = 0\n",
        "    for i in range(len(X)):\n",
        "        if X[i] < x:\n",
        "            probability += p[i]\n",
        "    return probability\n",
        "\n",
        "cdf(5, X, p)"
      ]
    },
    {
      "cell_type": "code",
      "execution_count": 16,
      "metadata": {
        "colab": {
          "base_uri": "https://localhost:8080/",
          "height": 538
        },
        "id": "td6o7Iw5STsq",
        "outputId": "4d916b21-fcce-40fb-dac6-40ee772215ee"
      },
      "outputs": [
        {
          "name": "stdout",
          "output_type": "stream",
          "text": [
            "values = array([-5, -4, -3, -2, -1,  0,  1,  2,  3,  4,  5,  6,  7,  8])\n",
            "cdf_sequence = array([0.  , 0.  , 0.  , 0.05, 0.13, 0.26, 0.5 , 0.56, 0.71, 0.83, 0.91,\n",
            "       1.  , 1.  , 1.  ])\n"
          ]
        },
        {
          "data": {
            "image/png": "[encoded data removed]",
            "text/plain": [
              "<Figure size 640x480 with 1 Axes>"
            ]
          },
          "metadata": {},
          "output_type": "display_data"
        }
      ],
      "source": [
        "values = np.arange(-5, 9)\n",
        "cdf_sequence = np.zeros(14)\n",
        "\n",
        "for i in range(len(values)):\n",
        "    c = cdf(values[i], X, p)\n",
        "    cdf_sequence[i] = c\n",
        "\n",
        "plt.plot(values, cdf_sequence)\n",
        "plt.xlabel(\"X\")\n",
        "plt.ylabel(\"CDF\")\n",
        "print(f\"{values = }\\n{cdf_sequence = }\")"
      ]
    },
    {
      "cell_type": "markdown",
      "metadata": {
        "id": "Dm0F5xnnWJ1u"
      },
      "source": [
        "### Плотность вероятности\n",
        "\n",
        "Когда мы имеем дело с непрерывной случайной величиной, определенной на некотором открытом или закрытом промежуте, то вероятность выпадения конкретного значения является нулевой. Поэтому вместо распределения вероятностей для задания распределения случайной величины используется **плотность вероятности** (*Probability Density Function* - PDF), которая определяет вероятность выпадения значений, лежащих в некотором диапозоне.\n",
        "\n",
        "Функция распределения $F(x)$ непрерывной случайной величины является непрерывной, кусочно-дифференцируемой функцией. Вероятность $p$ того, что случайная величина примет значение, лежащее на отрезке $[a, b]$, равна приращению функции распределения на этом интервале:\n",
        "$$\n",
        "p(a \\leq X \\leq b) = F(a) - F(b)\n",
        "$$\n",
        "\n",
        "\n",
        "Если известна функция распределения F(x), плотность вероятности может быть получена как производная от функции распределения.\n",
        "\n",
        "Предположим, что функция распределения задана сигмоидой c $\\alpha = 0.1$:"
      ]
    },
    {
      "cell_type": "code",
      "execution_count": 13,
      "metadata": {},
      "outputs": [
        {
          "data": {
            "text/plain": [
              "[<matplotlib.lines.Line2D at 0x249f75d63e0>]"
            ]
          },
          "execution_count": 13,
          "metadata": {},
          "output_type": "execute_result"
        },
        {
          "data": {
            "image/png": "[encoded data removed]",
            "text/plain": [
              "<Figure size 640x480 with 1 Axes>"
            ]
          },
          "metadata": {},
          "output_type": "display_data"
        }
      ],
      "source": [
        "def sigmoid(x, alpha=0.1):\n",
        "    return 1 / (1 + np.exp(-alpha * x))\n",
        "\n",
        "segment = np.linspace(-100, 100, 1000)\n",
        "cdf_sequence = np.zeros_like(segment)\n",
        "\n",
        "for i in range(len(segment)):\n",
        "    cdf_sequence[i] = sigmoid(segment[i])\n",
        "\n",
        "plt.plot(segment, cdf_sequence)"
      ]
    },
    {
      "cell_type": "markdown",
      "metadata": {},
      "source": [
        "Напишем функцию `deriv_sigmoid`, которая возвращает значение производной сигмоиды в точе `x`. Тогда мы сможем получить значения плотности вероятности на рассматриваемом отрезке `segment`:"
      ]
    },
    {
      "cell_type": "code",
      "execution_count": 14,
      "metadata": {},
      "outputs": [
        {
          "data": {
            "text/plain": [
              "[<matplotlib.lines.Line2D at 0x249f77a15d0>]"
            ]
          },
          "execution_count": 14,
          "metadata": {},
          "output_type": "execute_result"
        },
        {
          "data": {
            "image/png": "[encoded data removed]",
            "text/plain": [
              "<Figure size 640x480 with 1 Axes>"
            ]
          },
          "metadata": {},
          "output_type": "display_data"
        }
      ],
      "source": [
        "def deriv_sigmoid(x, alpha=0.1):\n",
        "    return sigmoid(x, alpha) * (1 - sigmoid(x, alpha))\n",
        "\n",
        "pdf = np.zeros_like(segment)\n",
        "for i in range(len(segment)):\n",
        "    pdf[i] = deriv_sigmoid(segment[i])\n",
        "\n",
        "plt.plot(segment, pdf)"
      ]
    },
    {
      "cell_type": "markdown",
      "metadata": {},
      "source": [
        "Для того, чтобы по плотности вероятности $f(x)$ вычислить вероятность того, что случайная величина примет значение, лежащее на отрезке $[a, b]$, нужно проинтегрировать плотность вероятности в прделах от $a$ до $b$:\n",
        "$$\n",
        "p(a \\leq X \\leq b) = \\int_a^b f(x) dx\n",
        "$$\n",
        "Так как функция распределения $F(x)$ является первообразной плотности вероятности, то\n",
        "$$\n",
        "\\int_a^b f(x) dx = F(b) - F(a)\n",
        "$$\n",
        "Что соответствует описанной выше формуле для функции вероятности."
      ]
    },
    {
      "cell_type": "markdown",
      "metadata": {
        "id": "4IJlieTqMGLV"
      },
      "source": [
        "### Математическое ожидание\n",
        "\n",
        "**Математическое ожидание** (*expected value*) – это среднее значение случайной величины, которое показывает, какой результат в среднем можно ожидать от повторения эксперимента много раз.\n",
        "\n",
        "$$ \\mathrm E[X]=\\sum_{i=1}^n x_1p_1$$\n",
        "для непрерывного распределения\n",
        "$$ \\mathrm E[X] = \\int\\limits_{-\\infty}^\\infty xf(x)$$\n",
        "где $f(x)$ - функция плотности распределения"
      ]
    },
    {
      "cell_type": "code",
      "execution_count": null,
      "metadata": {
        "id": "BSdQ_KX6MGLV",
        "outputId": "1ba5bb40-fe97-4e9a-9316-bc409b8792cf"
      },
      "outputs": [
        {
          "data": {
            "text/plain": [
              "4.11"
            ]
          },
          "execution_count": 3,
          "metadata": {},
          "output_type": "execute_result"
        }
      ],
      "source": [
        "def EV(X, p):\n",
        "    \"\"\"Математическое ожидание\"\"\"\n",
        "    return sum(X*p)\n",
        "EV(X, p)"
      ]
    },
    {
      "cell_type": "markdown",
      "metadata": {
        "id": "6ZGePqBwMGLV"
      },
      "source": [
        "Если распределение вероятностей случайной величины неизвестно, математическое ожидание можно получить из результатов большого количества испытаний как среднее значение всех исходов (*sample mean*):\n",
        "$$ \\overline x = \\frac{1}{n} \\sum_{i=1}^n x_i $$"
      ]
    },
    {
      "cell_type": "code",
      "execution_count": null,
      "metadata": {
        "id": "_GwzLrhiMGLW",
        "outputId": "395d2ad1-8292-4a35-dc48-8711d63cc4f3"
      },
      "outputs": [
        {
          "data": {
            "text/plain": [
              "4.111806"
            ]
          },
          "execution_count": 4,
          "metadata": {},
          "output_type": "execute_result"
        }
      ],
      "source": [
        "# сгенерируем множество исходов заданной случайной величины\n",
        "samples = np.random.choice(X, size=1000000, p=p)\n",
        "samples.mean()"
      ]
    },
    {
      "cell_type": "markdown",
      "metadata": {
        "id": "Ct98z_jQMGLW"
      },
      "source": [
        "### Отклонение случайной величины\n",
        "**Отклонение** (*deviation*) случайной величины представляет собой рзность случайной величины и его математического ожидания:\n",
        "$$ X - \\mathrm E[X] $$\n",
        "Вероятность отклонения $ x_i - \\mathrm E[X]$ равно вероятности $p_i$ значения $x_i$.\n",
        "\n",
        "Математическое ожидание отклонения равно нулю, так как отклонения в положительную сторону компенсируются отклонениями в отрицательную сторону (их значения отрицательны)."
      ]
    },
    {
      "cell_type": "code",
      "execution_count": null,
      "metadata": {
        "id": "NVm-1gN7MGLX",
        "outputId": "a3aefead-07c9-422f-fae9-7766b4856520"
      },
      "outputs": [
        {
          "name": "stdout",
          "output_type": "stream",
          "text": [
            "[-4.11 -3.11 -2.11 -1.11 -0.11  0.89  1.89  2.89  3.89]\n"
          ]
        },
        {
          "data": {
            "text/plain": [
              "-4.440892098500626e-16"
            ]
          },
          "execution_count": 5,
          "metadata": {},
          "output_type": "execute_result"
        }
      ],
      "source": [
        "deviations = X-EV(X, p)\n",
        "print(deviations)\n",
        "EV(deviations, p)   # Математическое ожидание отклонения равно нулю"
      ]
    },
    {
      "cell_type": "markdown",
      "metadata": {
        "id": "8kzBHQGlMGLX"
      },
      "source": [
        "### Дисперсия\n",
        "**Дисперсией** (*Variance*) дискретной случайной величины называется математическое ожидание *квадрата* отклонения случайной величины от ее математического ожидания:\n",
        "$$ \\mathrm{Var}(X) = \\mathrm E[(X - \\mathrm E[X])^2] = \\sum {(x_i - \\mathrm E[X])^2p_i} $$"
      ]
    },
    {
      "cell_type": "code",
      "execution_count": null,
      "metadata": {
        "id": "cECCoCAfMGLY",
        "outputId": "647786ab-9f93-49f9-9535-f99ee9c7e88e"
      },
      "outputs": [
        {
          "data": {
            "text/plain": [
              "4.9979000000000005"
            ]
          },
          "execution_count": 6,
          "metadata": {},
          "output_type": "execute_result"
        }
      ],
      "source": [
        "from statistics import variance\n",
        "from numpy import power\n",
        "\n",
        "def var(X, p):\n",
        "    ev = EV(X, p)\n",
        "    variance = 0\n",
        "    for i in range(len(X)):\n",
        "        variance += ((X[i] - ev) ** 2) * p[i]\n",
        "    return variance\n",
        "\n",
        "var(X, p)"
      ]
    },
    {
      "cell_type": "markdown",
      "metadata": {
        "id": "rQ-DSP00MGLY"
      },
      "source": [
        "### Выборочная дисперсия\n",
        "\n",
        "**Выборочная дисперсия** (*Sample Variance*) - дисперсия, оцениваемая эмпирически на основе данных выборки\n",
        "$$ \\tilde S_X^2 = \\frac{1}{n} \\sum_{i=1}^n (x_i - \\overline x)^2 $$\n",
        "\n",
        "**Несмещённая** (*unbiased*) выборочная дисперсия:\n",
        "$$ S_X^2 = \\frac{1}{n-1} \\sum_{i=1}^n (x_i - \\overline x)^2 $$\n",
        "Деление на $n-1$ вместо $n$ дает чуть более высокую оценку $ S_X^2 = \\frac{n}{n-1} \\tilde S_X^2$. При больших $n$ несмещенная дисперсия дает лучшую оценку, чем смещенная."
      ]
    },
    {
      "cell_type": "code",
      "execution_count": null,
      "metadata": {
        "id": "t8cEcAUfMGLY",
        "outputId": "f232c036-1573-405f-bc2c-a87a22dd2c67"
      },
      "outputs": [
        {
          "data": {
            "text/plain": [
              "4.993393418377746"
            ]
          },
          "execution_count": 7,
          "metadata": {},
          "output_type": "execute_result"
        }
      ],
      "source": [
        "def var(samples):\n",
        "    ev = samples.mean()\n",
        "    variance = 0\n",
        "    for s in samples:\n",
        "        variance += (s - ev) ** 2\n",
        "\n",
        "    return variance / len(samples)\n",
        "\n",
        "var(samples)"
      ]
    },
    {
      "cell_type": "code",
      "execution_count": null,
      "metadata": {
        "id": "_zDKjjvJMGLZ",
        "outputId": "e4a72377-a0f9-4e0e-de0c-11caca9ace09"
      },
      "outputs": [
        {
          "data": {
            "text/plain": [
              "4.993393418363999"
            ]
          },
          "execution_count": 8,
          "metadata": {},
          "output_type": "execute_result"
        }
      ],
      "source": [
        "np.var(samples)     # два вариана вычисления\n",
        "samples.var()       # дисперсии с numpy"
      ]
    },
    {
      "cell_type": "markdown",
      "metadata": {
        "id": "WHGtY95_MGLZ"
      },
      "source": [
        "### Стандартное отклонение\n",
        "**Стандартное отклонение** (*standard deviation*) или **среднеквадратическое отклонение**  – это мера того, насколько значения случайной величины разбросаны относительно её среднего значения. Стандартное отклонение вычисляется как квадратный корень от дисперсии:\n",
        "$$\n",
        "\\sigma_X = \\sqrt{\\mathrm{Var}(X)}\n",
        "$$"
      ]
    },
    {
      "cell_type": "code",
      "execution_count": null,
      "metadata": {
        "id": "lRgxhKIlMGLZ",
        "outputId": "5fe276d9-31dc-4456-9d31-735725a149b9"
      },
      "outputs": [
        {
          "data": {
            "text/plain": [
              "2.2345902126260193"
            ]
          },
          "execution_count": 9,
          "metadata": {},
          "output_type": "execute_result"
        }
      ],
      "source": [
        "np.std(samples)     # два вариана вычисления\n",
        "samples.std()       # среднеквадратического отклонения c numpy"
      ]
    },
    {
      "cell_type": "markdown",
      "metadata": {
        "id": "t4GlaGyHMGLa"
      },
      "source": [
        "### Мода, Медиана\n",
        "**Модой** (*Mode*) случайной величины называется ее наиболее вероятное значение.\n",
        "\n",
        "**Медианой** (*Median*)случайной величины называется такое значение, для которого вероятность получить большее значение равно вероятности получить меньшее значение ($0.5$). Если случайная величина является непрерывной, то медиана может быть представлена уравнением:\n",
        "$$\n",
        "\\int_{- \\infty}^m f(x)dx = 0.5\n",
        "$$\n",
        "Где $f(x)$ – *плотность вероятности распределения* случайной величнины (*probabity density function* - PDF)\n"
      ]
    }
  ],
  "metadata": {
    "colab": {
      "provenance": []
    },
    "kernelspec": {
      "display_name": "Python 3 (ipykernel)",
      "language": "python",
      "name": "python3"
    },
    "language_info": {
      "codemirror_mode": {
        "name": "ipython",
        "version": 3
      },
      "file_extension": ".py",
      "mimetype": "text/x-python",
      "name": "python",
      "nbconvert_exporter": "python",
      "pygments_lexer": "ipython3",
      "version": "3.10.10"
    },
    "vscode": {
      "interpreter": {
        "hash": "79e7e232837c7265a9e9b5dfac4264a5e3a343b031b97a295fa4d50f1a7fdf05"
      }
    }
  },
  "nbformat": 4,
  "nbformat_minor": 0
}
